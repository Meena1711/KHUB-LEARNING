{
  "nbformat": 4,
  "nbformat_minor": 0,
  "metadata": {
    "colab": {
      "provenance": [],
      "authorship_tag": "ABX9TyMh0U46k+6DXiDBBopuSikC",
      "include_colab_link": true
    },
    "kernelspec": {
      "name": "python3",
      "display_name": "Python 3"
    },
    "language_info": {
      "name": "python"
    }
  },
  "cells": [
    {
      "cell_type": "markdown",
      "metadata": {
        "id": "view-in-github",
        "colab_type": "text"
      },
      "source": [
        "<a href=\"https://colab.research.google.com/github/Meena1711/KHUB-LEARNING/blob/main/PYTHON_TASK.ipynb\" target=\"_parent\"><img src=\"https://colab.research.google.com/assets/colab-badge.svg\" alt=\"Open In Colab\"/></a>"
      ]
    },
    {
      "cell_type": "markdown",
      "source": [
        "# **DAY-1 TASK**"
      ],
      "metadata": {
        "id": "n3QikHnwDxat"
      }
    },
    {
      "cell_type": "markdown",
      "source": [
        " What is Python?\n",
        "\n",
        "       Python is a popular programming language and high level language.\n",
        "       uses of python\n",
        "\n",
        "*  Web development\n",
        "*  Software development\n",
        "\n",
        "Python Installization : python --version\n",
        "\n",
        "**Comments **\n",
        "\n",
        "comments are used to explain code\n",
        "\n",
        "comments starts with # symbol\n",
        "\n",
        "for multi line comments we use tirple quotes (''' or \"\"\")\n"
      ],
      "metadata": {
        "id": "80J3QcGXEHg-"
      }
    },
    {
      "cell_type": "markdown",
      "source": [
        "**variables**\n",
        "\n",
        "variables are used to store data values\n",
        "\n",
        "same variable can hold different data types at different times\n",
        "\n"
      ],
      "metadata": {
        "id": "mvi0O2tdE-F3"
      }
    },
    {
      "cell_type": "code",
      "source": [
        "x = 5\n",
        "y = \"sally\"\n",
        "print(x)\n",
        "print(y)"
      ],
      "metadata": {
        "colab": {
          "base_uri": "https://localhost:8080/"
        },
        "id": "j_kwdPUxJ6fc",
        "outputId": "7e9ae3fc-3282-4db7-802d-b78fd750b6c7"
      },
      "execution_count": null,
      "outputs": [
        {
          "output_type": "stream",
          "name": "stdout",
          "text": [
            "5\n",
            "sally\n"
          ]
        }
      ]
    },
    {
      "cell_type": "code",
      "source": [
        "x = 5\n",
        "x = \"sally\"\n",
        "print(x)"
      ],
      "metadata": {
        "colab": {
          "base_uri": "https://localhost:8080/"
        },
        "id": "7fTZYz2UKWmB",
        "outputId": "61a12aa7-1287-42c6-cff3-af9cff167131"
      },
      "execution_count": null,
      "outputs": [
        {
          "output_type": "stream",
          "name": "stdout",
          "text": [
            "sally\n"
          ]
        }
      ]
    },
    {
      "cell_type": "markdown",
      "source": [
        "we use type() function to get type of a variable"
      ],
      "metadata": {
        "id": "rUT4kW2DKikI"
      }
    },
    {
      "cell_type": "code",
      "source": [
        "x =5\n",
        "y = \"sally\"\n",
        "print(type(x))\n",
        "print(type(y))"
      ],
      "metadata": {
        "colab": {
          "base_uri": "https://localhost:8080/"
        },
        "id": "q_k0PVsOK_UH",
        "outputId": "9d240b6d-30f7-46b0-e57d-31fcfc972066"
      },
      "execution_count": null,
      "outputs": [
        {
          "output_type": "stream",
          "name": "stdout",
          "text": [
            "<class 'int'>\n",
            "<class 'str'>\n"
          ]
        }
      ]
    },
    {
      "cell_type": "markdown",
      "source": [
        "string variables can decelared either by using single or double quotes"
      ],
      "metadata": {
        "id": "CEI9MiTrLz6Z"
      }
    },
    {
      "cell_type": "code",
      "source": [
        "x =\"john\"\n",
        "y ='john'\n",
        "print(type(x))\n",
        "print(type(y))"
      ],
      "metadata": {
        "colab": {
          "base_uri": "https://localhost:8080/"
        },
        "id": "BKs9YZTEL-Wt",
        "outputId": "c7abf1fb-d6ea-481a-8a2c-617be702edd3"
      },
      "execution_count": null,
      "outputs": [
        {
          "output_type": "stream",
          "name": "stdout",
          "text": [
            "<class 'str'>\n",
            "<class 'str'>\n"
          ]
        }
      ]
    },
    {
      "cell_type": "markdown",
      "source": [
        "**Rules fo Python variables**\n",
        "\n",
        "\n",
        "*   must start with a letter or underscore\n",
        "*   cannont start with number\n",
        "*   only contains alpha-numeric values and underscore\n",
        "*   do not use special characters\n",
        "*   they are case-sensitive\n",
        "*   cannot start with python keywords"
      ],
      "metadata": {
        "id": "Hx4kLQ5fMYC-"
      }
    },
    {
      "cell_type": "markdown",
      "source": [
        "**Multi word variable Names**\n",
        "\n",
        "1. Camel Case - Each word except the first starts with capital\n",
        "2. Pascal case - each word starts with capital\n",
        "3. Snake Case - each word is separated by underscore\n",
        "\n",
        "\n",
        "\n",
        "\n",
        "\n"
      ],
      "metadata": {
        "id": "p9C7ZT9VNgga"
      }
    },
    {
      "cell_type": "code",
      "source": [
        "x, y, z = \"apple\" , \"orange\" , \"cherry\"\n",
        "print(x)\n",
        "print(y)\n",
        "print(z)"
      ],
      "metadata": {
        "colab": {
          "base_uri": "https://localhost:8080/"
        },
        "id": "2GahbenJNUdt",
        "outputId": "8094dc5d-81a3-478c-856b-22d8dbb54fba"
      },
      "execution_count": null,
      "outputs": [
        {
          "output_type": "stream",
          "name": "stdout",
          "text": [
            "apple\n",
            "orange\n",
            "cherry\n"
          ]
        }
      ]
    },
    {
      "cell_type": "code",
      "source": [
        "x = y = \"apple\"\n",
        "print(x)\n",
        "print(y)"
      ],
      "metadata": {
        "colab": {
          "base_uri": "https://localhost:8080/"
        },
        "id": "Qa1sSa_-Pm-V",
        "outputId": "6365b0e2-8cbb-46b3-9afc-911e607da6a1"
      },
      "execution_count": null,
      "outputs": [
        {
          "output_type": "stream",
          "name": "stdout",
          "text": [
            "apple\n",
            "apple\n"
          ]
        }
      ]
    },
    {
      "cell_type": "code",
      "source": [
        "x =\"she\"\n",
        "y = \"is\"\n",
        "z =\"sweet\"\n",
        "print(x + y + z)\n",
        "print(x, y, z)"
      ],
      "metadata": {
        "colab": {
          "base_uri": "https://localhost:8080/"
        },
        "id": "74uPHZCWP8T3",
        "outputId": "1c68bfdf-3a42-451c-95b0-05aaaf985b19"
      },
      "execution_count": null,
      "outputs": [
        {
          "output_type": "stream",
          "name": "stdout",
          "text": [
            "sheissweet\n",
            "she is sweet\n"
          ]
        }
      ]
    },
    {
      "cell_type": "markdown",
      "source": [
        "**Data Types**\n",
        "\n",
        "1. string     - \"john\"\n",
        "2.integer     - 20\n",
        "3.float       - 72.6\n",
        "4.complex     - 3+5j\n",
        "5.list        - [\"apple\", \"banana\"]\n",
        "6.tuple       - (10, 20)\n",
        "7.range       - range(10)\n",
        "8.dictionary  - {\"name\" : \"john\",  \"age\" : 25}\n",
        "9.set         - {1, 2, 3}\n",
        "10.frozenset  - frozenset([1, 2, 3])\n",
        "11.boolen     - true / false\n",
        "12.bytes      - b\"hello\"\n",
        "13.nonetype   - none"
      ],
      "metadata": {
        "id": "R71c9QavRaCq"
      }
    },
    {
      "cell_type": "code",
      "source": [
        "x = 1\n",
        "y = 2.8\n",
        "z = 1j\n",
        "\n",
        "a = float(x)\n",
        "b = int(y)\n",
        "c = complex(x)\n",
        "\n",
        "print(a)\n",
        "print(b)\n",
        "print(c)\n",
        "\n",
        "print(type(a))\n",
        "print(type(b))\n",
        "print(type(c))"
      ],
      "metadata": {
        "colab": {
          "base_uri": "https://localhost:8080/"
        },
        "id": "GfT_80yXSMTa",
        "outputId": "7fde4abe-3049-47fa-c0a4-8bd2c25d0ca2"
      },
      "execution_count": null,
      "outputs": [
        {
          "output_type": "stream",
          "name": "stdout",
          "text": [
            "1.0\n",
            "2\n",
            "(1+0j)\n",
            "<class 'float'>\n",
            "<class 'int'>\n",
            "<class 'complex'>\n"
          ]
        }
      ]
    },
    {
      "cell_type": "markdown",
      "source": [
        "**Strings and Arrays**\n",
        "\n",
        "Indexing starts from zero"
      ],
      "metadata": {
        "id": "jJMBSeAbVHVV"
      }
    },
    {
      "cell_type": "code",
      "source": [
        "x = \"hello world\"\n",
        "print(x[4])"
      ],
      "metadata": {
        "colab": {
          "base_uri": "https://localhost:8080/"
        },
        "id": "SqAycRHsVNSJ",
        "outputId": "a361235a-30e0-400a-9708-3af3469a89e4"
      },
      "execution_count": null,
      "outputs": [
        {
          "output_type": "stream",
          "name": "stdout",
          "text": [
            "o\n"
          ]
        }
      ]
    },
    {
      "cell_type": "code",
      "source": [
        "X =\"HELLO\"\n",
        "print(len(X))"
      ],
      "metadata": {
        "colab": {
          "base_uri": "https://localhost:8080/"
        },
        "id": "H6GERwDTWIqn",
        "outputId": "b3c01434-4ee6-4384-95d6-cd652e0b6528"
      },
      "execution_count": null,
      "outputs": [
        {
          "output_type": "stream",
          "name": "stdout",
          "text": [
            "5\n"
          ]
        }
      ]
    },
    {
      "cell_type": "code",
      "source": [
        "x = \"this a python programming\"\n",
        "print(\"is\" in x)"
      ],
      "metadata": {
        "colab": {
          "base_uri": "https://localhost:8080/"
        },
        "id": "qHZ_7BICXAXV",
        "outputId": "3dc5c729-00cd-4ef9-c553-21c69e19db3c"
      },
      "execution_count": null,
      "outputs": [
        {
          "output_type": "stream",
          "name": "stdout",
          "text": [
            "True\n"
          ]
        }
      ]
    },
    {
      "cell_type": "markdown",
      "source": [
        "**String slicing**"
      ],
      "metadata": {
        "id": "1zeIay3IXS8d"
      }
    },
    {
      "cell_type": "code",
      "source": [
        "x = \"hello world\"\n",
        "print(x[2:5])"
      ],
      "metadata": {
        "colab": {
          "base_uri": "https://localhost:8080/"
        },
        "id": "edwT4jZDXYP-",
        "outputId": "63052e12-f4ad-4b3b-e4d4-c7d78fc72fbc"
      },
      "execution_count": null,
      "outputs": [
        {
          "output_type": "stream",
          "name": "stdout",
          "text": [
            "llo\n"
          ]
        }
      ]
    },
    {
      "cell_type": "code",
      "source": [
        "x = \"hello world\"\n",
        "print(x[:8])"
      ],
      "metadata": {
        "colab": {
          "base_uri": "https://localhost:8080/"
        },
        "id": "XDmgezTCXw5j",
        "outputId": "3bc10f19-9508-485e-c15c-6f172ac2bb43"
      },
      "execution_count": null,
      "outputs": [
        {
          "output_type": "stream",
          "name": "stdout",
          "text": [
            "hello wo\n"
          ]
        }
      ]
    },
    {
      "cell_type": "code",
      "source": [
        "x =\"hello world\"\n",
        "print(x[5:])"
      ],
      "metadata": {
        "colab": {
          "base_uri": "https://localhost:8080/"
        },
        "id": "kVCNEY6VX8Cl",
        "outputId": "5ce659ad-02d1-4823-a99a-5c41c705956b"
      },
      "execution_count": null,
      "outputs": [
        {
          "output_type": "stream",
          "name": "stdout",
          "text": [
            " world\n"
          ]
        }
      ]
    },
    {
      "cell_type": "code",
      "source": [
        "x =\"kiet\"\n",
        "print(x[-4:-2])"
      ],
      "metadata": {
        "colab": {
          "base_uri": "https://localhost:8080/"
        },
        "id": "j9A76ba9YE0A",
        "outputId": "01965348-e01e-4c47-ae56-7ca62b960a41"
      },
      "execution_count": null,
      "outputs": [
        {
          "output_type": "stream",
          "name": "stdout",
          "text": [
            "ki\n"
          ]
        }
      ]
    },
    {
      "cell_type": "code",
      "source": [
        "x = \"world\"\n",
        "print(x[::-1])"
      ],
      "metadata": {
        "colab": {
          "base_uri": "https://localhost:8080/"
        },
        "id": "FazjoN3aZyXv",
        "outputId": "adafee24-f708-41fd-9156-ae8db11eb184"
      },
      "execution_count": null,
      "outputs": [
        {
          "output_type": "stream",
          "name": "stdout",
          "text": [
            "dlrow\n"
          ]
        }
      ]
    },
    {
      "cell_type": "code",
      "source": [
        "x =\"abcdef\"\n",
        "print(x[0:7:2])"
      ],
      "metadata": {
        "colab": {
          "base_uri": "https://localhost:8080/"
        },
        "id": "b9aSTxtaaM6a",
        "outputId": "56edbcb6-2a2f-4dce-e341-7c51e44418ac"
      },
      "execution_count": null,
      "outputs": [
        {
          "output_type": "stream",
          "name": "stdout",
          "text": [
            "ace\n"
          ]
        }
      ]
    },
    {
      "cell_type": "code",
      "source": [
        "x =\"madam\"\n",
        "if (x[::-1]) == x:\n",
        "   print(\"palindrome\")\n",
        "else:\n",
        "   print(\"not palindrome\")"
      ],
      "metadata": {
        "colab": {
          "base_uri": "https://localhost:8080/"
        },
        "id": "eVicQN6UavJI",
        "outputId": "18fdce69-b208-4155-816d-4a0f1dca328c"
      },
      "execution_count": null,
      "outputs": [
        {
          "output_type": "stream",
          "name": "stdout",
          "text": [
            "palindrome\n"
          ]
        }
      ]
    },
    {
      "cell_type": "code",
      "source": [
        "x = \"abcdef\"\n",
        "k = 2\n",
        "y = x[k:] + x[:k]\n",
        "print(y)"
      ],
      "metadata": {
        "colab": {
          "base_uri": "https://localhost:8080/"
        },
        "id": "p_EdGmGdbruQ",
        "outputId": "43bc9a9d-6c14-4fd6-ae44-e53c141977fd"
      },
      "execution_count": null,
      "outputs": [
        {
          "output_type": "stream",
          "name": "stdout",
          "text": [
            "cdefab\n"
          ]
        }
      ]
    },
    {
      "cell_type": "markdown",
      "source": [
        "**Modify Strings**"
      ],
      "metadata": {
        "id": "1o03wdK0c7aw"
      }
    },
    {
      "cell_type": "markdown",
      "source": [
        "upper case        - upper\n",
        "\n",
        "lower case - lower\n",
        "\n",
        "remove whitespace at beginning and end - strip\n",
        "\n",
        "replace string\n",
        "\n",
        "split string"
      ],
      "metadata": {
        "id": "lodZbTBQd5Fw"
      }
    },
    {
      "cell_type": "code",
      "source": [
        "a = \"python\"\n",
        "print(a.upper())"
      ],
      "metadata": {
        "colab": {
          "base_uri": "https://localhost:8080/"
        },
        "id": "g8iVnNqdc-wp",
        "outputId": "948390c1-a065-4e66-9a91-cee8d5318fa2"
      },
      "execution_count": null,
      "outputs": [
        {
          "output_type": "stream",
          "name": "stdout",
          "text": [
            "PYTHON\n"
          ]
        }
      ]
    },
    {
      "cell_type": "code",
      "source": [
        "a =\"PYTHON\"\n",
        "print(a.lower())"
      ],
      "metadata": {
        "colab": {
          "base_uri": "https://localhost:8080/"
        },
        "id": "OPN_zPxUdiUz",
        "outputId": "683a0ad6-16d6-42d1-aeff-37a7f40e6766"
      },
      "execution_count": null,
      "outputs": [
        {
          "output_type": "stream",
          "name": "stdout",
          "text": [
            "python\n"
          ]
        }
      ]
    },
    {
      "cell_type": "code",
      "source": [
        "a =\"         hello world          \"\n",
        "print(a.strip())"
      ],
      "metadata": {
        "colab": {
          "base_uri": "https://localhost:8080/"
        },
        "id": "g5h5J9D_drLB",
        "outputId": "24b6ddab-2f8e-4ecd-9297-d70f7616b5d6"
      },
      "execution_count": null,
      "outputs": [
        {
          "output_type": "stream",
          "name": "stdout",
          "text": [
            "hello world\n"
          ]
        }
      ]
    },
    {
      "cell_type": "code",
      "source": [
        "a = \"town\"\n",
        "print(a.replace(\"w\" , \"r\"))"
      ],
      "metadata": {
        "colab": {
          "base_uri": "https://localhost:8080/"
        },
        "id": "fNLyAyuKeR8N",
        "outputId": "3b6f4ab8-c987-4b18-ff29-0ef633ed15d9"
      },
      "execution_count": null,
      "outputs": [
        {
          "output_type": "stream",
          "name": "stdout",
          "text": [
            "torn\n"
          ]
        }
      ]
    },
    {
      "cell_type": "code",
      "source": [
        "a = \"python is fun\"\n",
        "print(a.split())"
      ],
      "metadata": {
        "colab": {
          "base_uri": "https://localhost:8080/"
        },
        "id": "Vs7YmbNPe5ww",
        "outputId": "f24b681e-1efc-4cb8-f2ba-b179cd7dc182"
      },
      "execution_count": null,
      "outputs": [
        {
          "output_type": "stream",
          "name": "stdout",
          "text": [
            "['python', 'is', 'fun']\n"
          ]
        }
      ]
    },
    {
      "cell_type": "code",
      "source": [
        "a = \"class\"\n",
        "b = \"room\"\n",
        "print(a + \" \" + b)"
      ],
      "metadata": {
        "colab": {
          "base_uri": "https://localhost:8080/"
        },
        "id": "6-92GgA8fWrc",
        "outputId": "861d36dd-eead-4447-ff9f-e3a3451dc330"
      },
      "execution_count": null,
      "outputs": [
        {
          "output_type": "stream",
          "name": "stdout",
          "text": [
            "class room\n"
          ]
        }
      ]
    },
    {
      "cell_type": "markdown",
      "source": [
        "**String Format**"
      ],
      "metadata": {
        "id": "NF7btDU2gIdD"
      }
    },
    {
      "cell_type": "code",
      "source": [
        "a = 20\n",
        "b = f\"I am sweety, I am {a}\"\n",
        "print (b)"
      ],
      "metadata": {
        "colab": {
          "base_uri": "https://localhost:8080/"
        },
        "id": "mJ7nDkeOgNMa",
        "outputId": "bcddc512-7b38-4447-d7c1-2538ad6fe45d"
      },
      "execution_count": null,
      "outputs": [
        {
          "output_type": "stream",
          "name": "stdout",
          "text": [
            "I am sweety, I am 20\n"
          ]
        }
      ]
    },
    {
      "cell_type": "code",
      "source": [
        "a = f\"the price is {10*40} dollars\"\n",
        "print(a)"
      ],
      "metadata": {
        "colab": {
          "base_uri": "https://localhost:8080/"
        },
        "id": "T9OT5yrkg3fY",
        "outputId": "bd01be32-7ae5-4769-f5bc-7864aef33377"
      },
      "execution_count": null,
      "outputs": [
        {
          "output_type": "stream",
          "name": "stdout",
          "text": [
            "the price is 400 dollars\n"
          ]
        }
      ]
    },
    {
      "cell_type": "markdown",
      "source": [
        "**Escape characters**\n",
        "\n",
        "\\' single quote\n",
        "\n",
        "\\\\ backslash\n",
        "\n",
        "\\n new line\n",
        "\n",
        "\\r carriage retun\n",
        "\n",
        "\\t tab\n",
        "\n",
        "\\b backspace\n",
        "\n",
        "\\f form feed"
      ],
      "metadata": {
        "id": "l4NMeuNnhXgd"
      }
    },
    {
      "cell_type": "markdown",
      "source": [
        "**String methods**"
      ],
      "metadata": {
        "id": "tyFWrj2lkFLU"
      }
    },
    {
      "cell_type": "code",
      "source": [
        "a = \"python\"\n",
        "x = a.capitalize()\n",
        "print(x)"
      ],
      "metadata": {
        "colab": {
          "base_uri": "https://localhost:8080/"
        },
        "id": "DMt6nQuSkD01",
        "outputId": "8ad0df80-4944-4142-f667-8a68060b6d08"
      },
      "execution_count": null,
      "outputs": [
        {
          "output_type": "stream",
          "name": "stdout",
          "text": [
            "Python\n"
          ]
        }
      ]
    },
    {
      "cell_type": "code",
      "source": [
        "a = \"PYTHON\"\n",
        "x = a.casefold()\n",
        "print(x)"
      ],
      "metadata": {
        "id": "H0FpelCYnMru",
        "colab": {
          "base_uri": "https://localhost:8080/"
        },
        "outputId": "129d24b7-7b5b-4f6c-96e3-7bd313c861d0"
      },
      "execution_count": null,
      "outputs": [
        {
          "output_type": "stream",
          "name": "stdout",
          "text": [
            "python\n"
          ]
        }
      ]
    },
    {
      "cell_type": "code",
      "source": [
        "a = \"python\"\n",
        "x = a.center(50)\n",
        "print(x)"
      ],
      "metadata": {
        "colab": {
          "base_uri": "https://localhost:8080/"
        },
        "id": "yHN4xusjpGuh",
        "outputId": "14066f9c-821b-42da-9cf9-dccc86d14b74"
      },
      "execution_count": null,
      "outputs": [
        {
          "output_type": "stream",
          "name": "stdout",
          "text": [
            "                      python                      \n"
          ]
        }
      ]
    },
    {
      "cell_type": "code",
      "source": [
        "a = \" i love python, python is easy\"\n",
        "x = a.count(\"python\")\n",
        "print(x)"
      ],
      "metadata": {
        "colab": {
          "base_uri": "https://localhost:8080/"
        },
        "id": "ftwcoVkKpUA6",
        "outputId": "a6cfbfcc-3fdb-4384-b291-3d8ff6273562"
      },
      "execution_count": null,
      "outputs": [
        {
          "output_type": "stream",
          "name": "stdout",
          "text": [
            "2\n"
          ]
        }
      ]
    },
    {
      "cell_type": "code",
      "source": [
        "a = \"python\"\n",
        "x = a.encode(\"ascii\")\n",
        "print(x)"
      ],
      "metadata": {
        "colab": {
          "base_uri": "https://localhost:8080/"
        },
        "id": "huY89umapk41",
        "outputId": "74fee126-fc2d-4109-d3e8-78e3a87856ac"
      },
      "execution_count": null,
      "outputs": [
        {
          "output_type": "stream",
          "name": "stdout",
          "text": [
            "b'python'\n"
          ]
        }
      ]
    },
    {
      "cell_type": "code",
      "source": [
        "a = \" i love python, python is easy\"\n",
        "x = a.endswith(\"easy\")\n",
        "print(x)"
      ],
      "metadata": {
        "colab": {
          "base_uri": "https://localhost:8080/"
        },
        "id": "LnX4qEdNqCD4",
        "outputId": "47fd7be8-17fa-49aa-e528-d156a4ff848f"
      },
      "execution_count": null,
      "outputs": [
        {
          "output_type": "stream",
          "name": "stdout",
          "text": [
            "True\n"
          ]
        }
      ]
    },
    {
      "cell_type": "code",
      "source": [
        "a = \"p \\t y \\t t \\t h \\t o \\t n\"\n",
        "x = a.expandtabs(10)\n",
        "print(x)"
      ],
      "metadata": {
        "colab": {
          "base_uri": "https://localhost:8080/"
        },
        "id": "OvChKQ_AqRKm",
        "outputId": "9e86c95c-40a1-482f-d167-72b25dedb1ee"
      },
      "execution_count": null,
      "outputs": [
        {
          "output_type": "stream",
          "name": "stdout",
          "text": [
            "p          y         t         h         o         n\n"
          ]
        }
      ]
    },
    {
      "cell_type": "code",
      "source": [
        "a = \" i love python. python is easy\"\n",
        "x = a.find(\"l\")\n",
        "print(x)"
      ],
      "metadata": {
        "colab": {
          "base_uri": "https://localhost:8080/"
        },
        "id": "tl3Zm6mtqpwT",
        "outputId": "adfab350-8474-4bc0-cf96-53284fff9cdf"
      },
      "execution_count": null,
      "outputs": [
        {
          "output_type": "stream",
          "name": "stdout",
          "text": [
            "3\n"
          ]
        }
      ]
    },
    {
      "cell_type": "code",
      "source": [
        "a = 50\n",
        "x =f\"{a:6f}\"\n",
        "print(x)"
      ],
      "metadata": {
        "colab": {
          "base_uri": "https://localhost:8080/"
        },
        "id": "Jxm4dXdDrZmg",
        "outputId": "8feac2d3-d446-4d8f-969e-9351bf39df1c"
      },
      "execution_count": null,
      "outputs": [
        {
          "output_type": "stream",
          "name": "stdout",
          "text": [
            "50.000000\n"
          ]
        }
      ]
    },
    {
      "cell_type": "code",
      "source": [
        "a = \"hello, {name}!\"\n",
        "b = {\"name\":\"chinni\"}\n",
        "x=a.format_map(b)\n",
        "print(x)"
      ],
      "metadata": {
        "colab": {
          "base_uri": "https://localhost:8080/"
        },
        "id": "b0hzgY3urnie",
        "outputId": "d48952bf-0588-453c-c504-72201a2ea521"
      },
      "execution_count": null,
      "outputs": [
        {
          "output_type": "stream",
          "name": "stdout",
          "text": [
            "hello, chinni!\n"
          ]
        }
      ]
    },
    {
      "cell_type": "code",
      "source": [
        "a = \"hello world\"\n",
        "x=a.index(\"d\")\n",
        "print(x)"
      ],
      "metadata": {
        "colab": {
          "base_uri": "https://localhost:8080/"
        },
        "id": "ReW0AJfqsSL_",
        "outputId": "4de72191-e550-406d-ef3e-529a8cd8d0d2"
      },
      "execution_count": null,
      "outputs": [
        {
          "output_type": "stream",
          "name": "stdout",
          "text": [
            "10\n"
          ]
        }
      ]
    },
    {
      "cell_type": "code",
      "source": [
        "a =\"hello17\"\n",
        "x=a.isalnum()\n",
        "print(x)"
      ],
      "metadata": {
        "colab": {
          "base_uri": "https://localhost:8080/"
        },
        "id": "g5qYHeh8sfic",
        "outputId": "1da69fa3-6d55-4bb1-d651-0c4a2acadf66"
      },
      "execution_count": null,
      "outputs": [
        {
          "output_type": "stream",
          "name": "stdout",
          "text": [
            "True\n"
          ]
        }
      ]
    },
    {
      "cell_type": "code",
      "source": [
        "a = \"hello\"\n",
        "x=a.isalpha()\n",
        "print(x)"
      ],
      "metadata": {
        "colab": {
          "base_uri": "https://localhost:8080/"
        },
        "id": "wOS3l759s83T",
        "outputId": "ea636c07-9312-40f1-c16d-6ed59e9a0455"
      },
      "execution_count": null,
      "outputs": [
        {
          "output_type": "stream",
          "name": "stdout",
          "text": [
            "True\n"
          ]
        }
      ]
    },
    {
      "cell_type": "code",
      "source": [
        "a=\"hello\"\n",
        "x=a.isascii()\n",
        "print(x)"
      ],
      "metadata": {
        "colab": {
          "base_uri": "https://localhost:8080/"
        },
        "id": "eo0Fd6fAtFEe",
        "outputId": "e451ce59-de1e-4807-de73-4581ad674cf0"
      },
      "execution_count": null,
      "outputs": [
        {
          "output_type": "stream",
          "name": "stdout",
          "text": [
            "True\n"
          ]
        }
      ]
    },
    {
      "cell_type": "code",
      "source": [
        "a=\"04766\"\n",
        "x=a.isdecimal()\n",
        "print(x)"
      ],
      "metadata": {
        "colab": {
          "base_uri": "https://localhost:8080/"
        },
        "id": "K3J3-DTJtZO4",
        "outputId": "5c2c7b42-c4f0-47c0-f997-03bcea1b0e08"
      },
      "execution_count": null,
      "outputs": [
        {
          "output_type": "stream",
          "name": "stdout",
          "text": [
            "True\n"
          ]
        }
      ]
    },
    {
      "cell_type": "code",
      "source": [
        "a=\"33²\"\n",
        "x=a.isdigit()\n",
        "print(x)"
      ],
      "metadata": {
        "colab": {
          "base_uri": "https://localhost:8080/"
        },
        "id": "sJwOsdbttqjo",
        "outputId": "c3569799-8156-4c79-ccd8-5edf2987ba17"
      },
      "execution_count": null,
      "outputs": [
        {
          "output_type": "stream",
          "name": "stdout",
          "text": [
            "True\n"
          ]
        }
      ]
    },
    {
      "cell_type": "code",
      "source": [
        "a = \"7hello\"\n",
        "x = a.isidentifier()\n",
        "print(x)"
      ],
      "metadata": {
        "colab": {
          "base_uri": "https://localhost:8080/"
        },
        "id": "NSw7K1FNt7O6",
        "outputId": "cca9f0f1-1543-46d9-a15f-fc61df43671a"
      },
      "execution_count": null,
      "outputs": [
        {
          "output_type": "stream",
          "name": "stdout",
          "text": [
            "False\n"
          ]
        }
      ]
    },
    {
      "cell_type": "code",
      "source": [
        "a = \"python\"\n",
        "x = a.islower()\n",
        "print(x)"
      ],
      "metadata": {
        "colab": {
          "base_uri": "https://localhost:8080/"
        },
        "id": "pY5hloIGvJpw",
        "outputId": "60ab79ef-0bd9-49d2-8aac-adb78ef53f85"
      },
      "execution_count": null,
      "outputs": [
        {
          "output_type": "stream",
          "name": "stdout",
          "text": [
            "True\n"
          ]
        }
      ]
    },
    {
      "cell_type": "code",
      "source": [
        "a =\"57a\"\n",
        "x = a.isnumeric()\n",
        "print(x)"
      ],
      "metadata": {
        "colab": {
          "base_uri": "https://localhost:8080/"
        },
        "id": "yapeJ2qCvRQ5",
        "outputId": "ebaeef60-e640-4680-c4ba-3558c01a32a6"
      },
      "execution_count": null,
      "outputs": [
        {
          "output_type": "stream",
          "name": "stdout",
          "text": [
            "False\n"
          ]
        }
      ]
    },
    {
      "cell_type": "code",
      "source": [
        "a =\"hello\"\n",
        "x = a.isprintable()\n",
        "print(x)"
      ],
      "metadata": {
        "colab": {
          "base_uri": "https://localhost:8080/"
        },
        "id": "iLhA1QorvZo8",
        "outputId": "0c5e3d31-eae7-4163-d789-f4b63e968e65"
      },
      "execution_count": null,
      "outputs": [
        {
          "output_type": "stream",
          "name": "stdout",
          "text": [
            "True\n"
          ]
        }
      ]
    },
    {
      "cell_type": "code",
      "source": [
        "a = \"   \"\n",
        "x = a.isspace()\n",
        "print(x)"
      ],
      "metadata": {
        "colab": {
          "base_uri": "https://localhost:8080/"
        },
        "id": "6glmSGmtvo0Z",
        "outputId": "8d289ea4-bf11-42cd-a74f-5086a4ead07a"
      },
      "execution_count": null,
      "outputs": [
        {
          "output_type": "stream",
          "name": "stdout",
          "text": [
            "True\n"
          ]
        }
      ]
    },
    {
      "cell_type": "code",
      "source": [
        "a = \"Apples Are Red\"\n",
        "x = a.istitle()\n",
        "print(x)"
      ],
      "metadata": {
        "colab": {
          "base_uri": "https://localhost:8080/"
        },
        "id": "wRM2koYkv0TQ",
        "outputId": "d103509c-09bd-44ce-c58d-8439f1bbc43f"
      },
      "execution_count": null,
      "outputs": [
        {
          "output_type": "stream",
          "name": "stdout",
          "text": [
            "True\n"
          ]
        }
      ]
    },
    {
      "cell_type": "code",
      "source": [
        "a = \"python\"\n",
        "x = a.isupper()\n",
        "print(x)"
      ],
      "metadata": {
        "colab": {
          "base_uri": "https://localhost:8080/"
        },
        "id": "g8uyUBhRwDc-",
        "outputId": "7a27abd7-a76c-4ec3-c507-9f31b616ac44"
      },
      "execution_count": null,
      "outputs": [
        {
          "output_type": "stream",
          "name": "stdout",
          "text": [
            "False\n"
          ]
        }
      ]
    },
    {
      "cell_type": "code",
      "source": [
        "a = (\"x\",\"y\",\"z\")\n",
        "x = \"@\".join(a)\n",
        "print(x)"
      ],
      "metadata": {
        "colab": {
          "base_uri": "https://localhost:8080/"
        },
        "id": "fizsedyXwNWb",
        "outputId": "3b1d6676-6ed9-406f-e173-c7e8b2cc5631"
      },
      "execution_count": null,
      "outputs": [
        {
          "output_type": "stream",
          "name": "stdout",
          "text": [
            "x@y@z\n"
          ]
        }
      ]
    },
    {
      "cell_type": "code",
      "source": [
        "a = \"hello\"\n",
        "x = a.ljust(10,\"0\")\n",
        "print(x)"
      ],
      "metadata": {
        "colab": {
          "base_uri": "https://localhost:8080/"
        },
        "id": "MgS6oZd7wjqd",
        "outputId": "81da3477-ac57-48a8-f85f-eae4a7c350b0"
      },
      "execution_count": null,
      "outputs": [
        {
          "output_type": "stream",
          "name": "stdout",
          "text": [
            "hello00000\n"
          ]
        }
      ]
    },
    {
      "cell_type": "code",
      "source": [
        "a = \"hello\"\n",
        "x = a.rjust(10,\"0\")\n",
        "print(x)"
      ],
      "metadata": {
        "colab": {
          "base_uri": "https://localhost:8080/"
        },
        "id": "yLE6mCgcxR8F",
        "outputId": "af0fe31e-af9f-4071-842d-fb8aa64b75b1"
      },
      "execution_count": null,
      "outputs": [
        {
          "output_type": "stream",
          "name": "stdout",
          "text": [
            "00000hello\n"
          ]
        }
      ]
    },
    {
      "cell_type": "code",
      "source": [
        "a = \"heLLO\"\n",
        "x = a.lower()\n",
        "print(x)"
      ],
      "metadata": {
        "colab": {
          "base_uri": "https://localhost:8080/"
        },
        "id": "pTPUfWevwvn9",
        "outputId": "35079580-c4e5-4136-be41-9d556ff8d13b"
      },
      "execution_count": null,
      "outputs": [
        {
          "output_type": "stream",
          "name": "stdout",
          "text": [
            "hello\n"
          ]
        }
      ]
    },
    {
      "cell_type": "code",
      "source": [
        "a = \"0000001234560000000000000\"\n",
        "x = a.lstrip(\"0\")\n",
        "print(x)"
      ],
      "metadata": {
        "colab": {
          "base_uri": "https://localhost:8080/"
        },
        "id": "ahW7J2nWwh3P",
        "outputId": "681c86c8-067e-45be-8cd6-f0f3c89a3324"
      },
      "execution_count": null,
      "outputs": [
        {
          "output_type": "stream",
          "name": "stdout",
          "text": [
            "1234560000000000000\n"
          ]
        }
      ]
    },
    {
      "cell_type": "code",
      "source": [
        "a = \"0000001234560000000000000\"\n",
        "x = a.rstrip(\"0\")\n",
        "print(x)"
      ],
      "metadata": {
        "colab": {
          "base_uri": "https://localhost:8080/"
        },
        "id": "scWTKBFMxMIY",
        "outputId": "ad2e24e7-18c9-4ba6-932f-bccfa72c5a44"
      },
      "execution_count": null,
      "outputs": [
        {
          "output_type": "stream",
          "name": "stdout",
          "text": [
            "000000123456\n"
          ]
        }
      ]
    },
    {
      "cell_type": "code",
      "source": [
        "a = \"apple are red\"\n",
        "x = a.title()\n",
        "print(x)"
      ],
      "metadata": {
        "colab": {
          "base_uri": "https://localhost:8080/"
        },
        "id": "5f-wc-Rmxa_z",
        "outputId": "455ff5fb-9420-4881-b808-54572f3be9f6"
      },
      "execution_count": null,
      "outputs": [
        {
          "output_type": "stream",
          "name": "stdout",
          "text": [
            "Apple Are Red\n"
          ]
        }
      ]
    },
    {
      "cell_type": "markdown",
      "source": [
        "**Boolean values**"
      ],
      "metadata": {
        "id": "pC_23QQrzmuz"
      }
    },
    {
      "cell_type": "code",
      "source": [
        "a = int(input())\n",
        "if a >= 18 :\n",
        "  print(\"true\")\n",
        "else:\n",
        "  print(\"false\")"
      ],
      "metadata": {
        "colab": {
          "base_uri": "https://localhost:8080/"
        },
        "id": "WMh2H-6Bzq0B",
        "outputId": "a5ff28e0-dd14-4e61-96e4-4137aacb54be"
      },
      "execution_count": null,
      "outputs": [
        {
          "output_type": "stream",
          "name": "stdout",
          "text": [
            "70\n",
            "true\n"
          ]
        }
      ]
    },
    {
      "cell_type": "code",
      "source": [
        "x = \"200\"\n",
        "print(isinstance(x, int))"
      ],
      "metadata": {
        "colab": {
          "base_uri": "https://localhost:8080/"
        },
        "id": "uvi6Xgz20izY",
        "outputId": "f518a9d9-2174-4f0a-c90f-db6f6fded91b"
      },
      "execution_count": null,
      "outputs": [
        {
          "output_type": "stream",
          "name": "stdout",
          "text": [
            "False\n"
          ]
        }
      ]
    },
    {
      "cell_type": "markdown",
      "source": [
        "**Python Operotors**"
      ],
      "metadata": {
        "id": "ASa0v8PW0xvm"
      }
    },
    {
      "cell_type": "markdown",
      "source": [
        "Arithmetic operators\n",
        "\n",
        "Assignment operators\n",
        "\n",
        "Comparison operators\n",
        "\n",
        "Logical operators\n",
        "\n",
        "Identity operators\n",
        "\n",
        "Membership operators\n",
        "\n",
        "Bitwise operators"
      ],
      "metadata": {
        "id": "CMRsbF_c01uG"
      }
    },
    {
      "cell_type": "markdown",
      "source": [
        "**List methods**"
      ],
      "metadata": {
        "id": "kBtQf1_2NR22"
      }
    },
    {
      "cell_type": "code",
      "source": [
        "a = [\"apple\", \"banana\", \"cherry\"]\n",
        "a[1] = \"blackcurrant\"\n",
        "print(a)"
      ],
      "metadata": {
        "colab": {
          "base_uri": "https://localhost:8080/"
        },
        "id": "KXMBtDT2N2aW",
        "outputId": "a546e381-6b2d-4f1f-90a2-8ada654b8e9e"
      },
      "execution_count": null,
      "outputs": [
        {
          "output_type": "stream",
          "name": "stdout",
          "text": [
            "['apple', 'blackcurrant', 'cherry']\n"
          ]
        }
      ]
    },
    {
      "cell_type": "code",
      "source": [
        "x = [\"apple\", \"banana\", \"cherry\", \"orange\", \"kiwi\", \"mango\"]\n",
        "x[1:3] = [\"blackcurrant\", \"watermelon\"]\n",
        "print(x)"
      ],
      "metadata": {
        "colab": {
          "base_uri": "https://localhost:8080/"
        },
        "id": "Cdz535BvN_wz",
        "outputId": "76325e88-4621-4647-90ab-df5365b0d606"
      },
      "execution_count": null,
      "outputs": [
        {
          "output_type": "stream",
          "name": "stdout",
          "text": [
            "['apple', 'blackcurrant', 'watermelon', 'orange', 'kiwi', 'mango']\n"
          ]
        }
      ]
    },
    {
      "cell_type": "code",
      "source": [
        "a = [\"apple\", \"banana\", \"cherry\"]\n",
        "a.insert(2, \"watermelon\")\n",
        "print(a)"
      ],
      "metadata": {
        "colab": {
          "base_uri": "https://localhost:8080/"
        },
        "id": "VFgvZXqBOTYr",
        "outputId": "902d989c-028a-445b-8e34-44ed7e05f047"
      },
      "execution_count": null,
      "outputs": [
        {
          "output_type": "stream",
          "name": "stdout",
          "text": [
            "['apple', 'banana', 'watermelon', 'cherry']\n"
          ]
        }
      ]
    },
    {
      "cell_type": "code",
      "source": [
        "a = [\"apple\", \"banana\", \"cherry\"]\n",
        "a.append(\"orange\")\n",
        "print(a)"
      ],
      "metadata": {
        "colab": {
          "base_uri": "https://localhost:8080/"
        },
        "id": "UqIsKDJTQUzZ",
        "outputId": "65cedd02-55b8-4a5a-f5f6-a8be3f4e0f4a"
      },
      "execution_count": null,
      "outputs": [
        {
          "output_type": "stream",
          "name": "stdout",
          "text": [
            "['apple', 'banana', 'cherry', 'orange']\n"
          ]
        }
      ]
    },
    {
      "cell_type": "code",
      "source": [
        "x = [\"apple\", \"banana\", \"cherry\"]\n",
        "y = [\"mango\", \"pineapple\", \"papaya\"]\n",
        "x.extend(y)\n",
        "print(x)"
      ],
      "metadata": {
        "colab": {
          "base_uri": "https://localhost:8080/"
        },
        "id": "DHn3mjP1QrYJ",
        "outputId": "f6f1cc74-5322-4ad1-fbec-400b15be9da4"
      },
      "execution_count": null,
      "outputs": [
        {
          "output_type": "stream",
          "name": "stdout",
          "text": [
            "['apple', 'banana', 'cherry', 'mango', 'pineapple', 'papaya']\n"
          ]
        }
      ]
    },
    {
      "cell_type": "code",
      "source": [
        "a = [\"apple\", \"banana\", \"cherry\"]\n",
        "a.remove(\"cherry\")\n",
        "print(a)"
      ],
      "metadata": {
        "colab": {
          "base_uri": "https://localhost:8080/"
        },
        "id": "cW3_5Nn_RHlU",
        "outputId": "aa010f1e-3611-4b98-dcab-77bad0ceed8e"
      },
      "execution_count": null,
      "outputs": [
        {
          "output_type": "stream",
          "name": "stdout",
          "text": [
            "['apple', 'banana']\n"
          ]
        }
      ]
    },
    {
      "cell_type": "code",
      "source": [
        "x = [\"apple\", \"banana\", \"cherry\"]\n",
        "x.pop(1)\n",
        "print(x)"
      ],
      "metadata": {
        "colab": {
          "base_uri": "https://localhost:8080/"
        },
        "id": "kLuR8ar0RUWG",
        "outputId": "52cb4e03-1e4d-4770-aec0-b7b83836e095"
      },
      "execution_count": null,
      "outputs": [
        {
          "output_type": "stream",
          "name": "stdout",
          "text": [
            "['apple', 'cherry']\n"
          ]
        }
      ]
    },
    {
      "cell_type": "code",
      "source": [
        "x = [\"apple\", \"banana\", \"cherry\"]\n",
        "x.pop()\n",
        "print(x)"
      ],
      "metadata": {
        "colab": {
          "base_uri": "https://localhost:8080/"
        },
        "id": "nFcXr3FkRg15",
        "outputId": "19fdb4f5-d62c-4b8c-dfd2-91cb58bbc5a6"
      },
      "execution_count": null,
      "outputs": [
        {
          "output_type": "stream",
          "name": "stdout",
          "text": [
            "['apple', 'banana']\n"
          ]
        }
      ]
    },
    {
      "cell_type": "code",
      "source": [
        "x = [\"apple\", \"banana\", \"cherry\"]\n",
        "del x[0]\n",
        "print(x)"
      ],
      "metadata": {
        "colab": {
          "base_uri": "https://localhost:8080/"
        },
        "id": "rlHoU-aeRlI8",
        "outputId": "a7e201cb-b4ec-479d-cd5f-ef351e6bd188"
      },
      "execution_count": null,
      "outputs": [
        {
          "output_type": "stream",
          "name": "stdout",
          "text": [
            "['banana', 'cherry']\n"
          ]
        }
      ]
    },
    {
      "cell_type": "code",
      "source": [
        "x = [\"apple\", \"banana\", \"cherry\"]\n",
        "x.clear()\n",
        "print(x)"
      ],
      "metadata": {
        "colab": {
          "base_uri": "https://localhost:8080/"
        },
        "id": "gZ5kgjW8Ryw-",
        "outputId": "f00ac5ff-10a4-45d9-9b43-f6e46d10550a"
      },
      "execution_count": null,
      "outputs": [
        {
          "output_type": "stream",
          "name": "stdout",
          "text": [
            "[]\n"
          ]
        }
      ]
    },
    {
      "cell_type": "code",
      "source": [
        "x = [\"apple\", \"banana\", \"cherry\"]\n",
        "for apple in x:\n",
        "    print(apple)"
      ],
      "metadata": {
        "colab": {
          "base_uri": "https://localhost:8080/"
        },
        "id": "DOtFiE5kSPhK",
        "outputId": "5ab68617-762c-49ba-9f2f-3d00a4f0fe42"
      },
      "execution_count": null,
      "outputs": [
        {
          "output_type": "stream",
          "name": "stdout",
          "text": [
            "apple\n",
            "banana\n",
            "cherry\n"
          ]
        }
      ]
    },
    {
      "cell_type": "code",
      "source": [
        "x = [\"apple\", \"banana\", \"cherry\"]\n",
        "for i in range(len(x)):\n",
        "    print(x[i])"
      ],
      "metadata": {
        "colab": {
          "base_uri": "https://localhost:8080/"
        },
        "id": "LMeuXxyoSfx7",
        "outputId": "36e82cd7-c88b-41f7-c028-0ff51816606a"
      },
      "execution_count": null,
      "outputs": [
        {
          "output_type": "stream",
          "name": "stdout",
          "text": [
            "apple\n",
            "banana\n",
            "cherry\n"
          ]
        }
      ]
    },
    {
      "cell_type": "code",
      "source": [
        "x = [\"apple\", \"banana\", \"cherry\"]\n",
        "i = 0\n",
        "while i < len(x):\n",
        "  print(x[i])\n",
        "  i = i + 1"
      ],
      "metadata": {
        "colab": {
          "base_uri": "https://localhost:8080/"
        },
        "id": "1qzXRYMgSwJ2",
        "outputId": "8b4ef08e-03ea-4bc6-8461-aaa2d1f125fe"
      },
      "execution_count": null,
      "outputs": [
        {
          "output_type": "stream",
          "name": "stdout",
          "text": [
            "apple\n",
            "banana\n",
            "cherry\n"
          ]
        }
      ]
    },
    {
      "cell_type": "code",
      "source": [
        "fruits = [\"apple\", \"banana\", \"cherry\", \"kiwi\", \"mango\"]\n",
        "newlist = []\n",
        "\n",
        "for x in fruits:\n",
        "  if \"a\" in x:\n",
        "    newlist.append(x)\n",
        "\n",
        "print(newlist)"
      ],
      "metadata": {
        "colab": {
          "base_uri": "https://localhost:8080/"
        },
        "id": "EymzAy6nS90N",
        "outputId": "2af548b3-f110-4846-a20b-ac7056d44b53"
      },
      "execution_count": null,
      "outputs": [
        {
          "output_type": "stream",
          "name": "stdout",
          "text": [
            "['apple', 'banana', 'mango']\n"
          ]
        }
      ]
    },
    {
      "cell_type": "code",
      "source": [
        "fruits = [\"apple\", \"banana\", \"cherry\", \"kiwi\", \"mango\"]\n",
        "y = [x for x in fruits if \"a\" in x]\n",
        "print(y)"
      ],
      "metadata": {
        "colab": {
          "base_uri": "https://localhost:8080/"
        },
        "id": "PYtFQKejTvX3",
        "outputId": "dce0c041-9031-42c4-a46d-831a3ffa5dc4"
      },
      "execution_count": null,
      "outputs": [
        {
          "output_type": "stream",
          "name": "stdout",
          "text": [
            "['apple', 'banana', 'mango']\n"
          ]
        }
      ]
    },
    {
      "cell_type": "code",
      "source": [
        "a = [x for x in range(10) if x < 5]\n",
        "print(a)"
      ],
      "metadata": {
        "colab": {
          "base_uri": "https://localhost:8080/"
        },
        "id": "GCXdrdv7UXtp",
        "outputId": "2a5ac1fc-ab5c-4d85-bc96-7e6eac8a6201"
      },
      "execution_count": null,
      "outputs": [
        {
          "output_type": "stream",
          "name": "stdout",
          "text": [
            "[0, 1, 2, 3, 4]\n"
          ]
        }
      ]
    },
    {
      "cell_type": "code",
      "source": [
        "fruits = [\"apple\", \"banana\", \"cherry\", \"kiwi\", \"mango\"]\n",
        "\n",
        "n = [x.upper() for x in fruits]\n",
        "\n",
        "print(n)"
      ],
      "metadata": {
        "colab": {
          "base_uri": "https://localhost:8080/"
        },
        "id": "i6n2Nq-pUtUL",
        "outputId": "38b0f4f0-f092-491a-c4a0-2b24a60ebb37"
      },
      "execution_count": null,
      "outputs": [
        {
          "output_type": "stream",
          "name": "stdout",
          "text": [
            "['APPLE', 'BANANA', 'CHERRY', 'KIWI', 'MANGO']\n"
          ]
        }
      ]
    },
    {
      "cell_type": "code",
      "source": [
        "a = [\"66\", \"45\", \"89\", \"38\", \"05\"]\n",
        "a.sort()\n",
        "print(a)"
      ],
      "metadata": {
        "colab": {
          "base_uri": "https://localhost:8080/"
        },
        "id": "r5OeB0IyVNeF",
        "outputId": "c7cc3870-46fc-42fe-9010-cf6a5d71f228"
      },
      "execution_count": null,
      "outputs": [
        {
          "output_type": "stream",
          "name": "stdout",
          "text": [
            "['05', '38', '45', '66', '89']\n"
          ]
        }
      ]
    },
    {
      "cell_type": "code",
      "source": [
        "x = [\"orange\", \"mango\", \"kiwi\", \"pineapple\", \"banana\"]\n",
        "x.sort(reverse = True)\n",
        "print(x)"
      ],
      "metadata": {
        "colab": {
          "base_uri": "https://localhost:8080/"
        },
        "id": "PNK9NoK0Vp2w",
        "outputId": "11045298-164d-403d-ffd3-c3cf8092cd48"
      },
      "execution_count": null,
      "outputs": [
        {
          "output_type": "stream",
          "name": "stdout",
          "text": [
            "['pineapple', 'orange', 'mango', 'kiwi', 'banana']\n"
          ]
        }
      ]
    },
    {
      "cell_type": "code",
      "source": [
        "a = [\"66\", \"45\", \"89\", \"38\", \"05\"]\n",
        "a.reverse()\n",
        "print(a)"
      ],
      "metadata": {
        "colab": {
          "base_uri": "https://localhost:8080/"
        },
        "id": "1RjSiEBsV74i",
        "outputId": "01e0e513-7ecc-4988-bce6-b6394d3d392e"
      },
      "execution_count": null,
      "outputs": [
        {
          "output_type": "stream",
          "name": "stdout",
          "text": [
            "['05', '38', '89', '45', '66']\n"
          ]
        }
      ]
    },
    {
      "cell_type": "code",
      "source": [
        "x = [\"apple\", \"banana\", \"cherry\"]\n",
        "y = x.copy()\n",
        "print(y)"
      ],
      "metadata": {
        "colab": {
          "base_uri": "https://localhost:8080/"
        },
        "id": "Zpo29AyCWc5r",
        "outputId": "e2198c8f-d4cc-42a6-82d7-f07802447e2d"
      },
      "execution_count": null,
      "outputs": [
        {
          "output_type": "stream",
          "name": "stdout",
          "text": [
            "['apple', 'banana', 'cherry']\n"
          ]
        }
      ]
    },
    {
      "cell_type": "code",
      "source": [
        "x = [\"apple\", \"banana\", \"cherry\"]\n",
        "y = list(x)\n",
        "print(y)"
      ],
      "metadata": {
        "colab": {
          "base_uri": "https://localhost:8080/"
        },
        "id": "qverCcZYWpuk",
        "outputId": "1afbbc9d-54d5-40c3-df4b-395cc6683026"
      },
      "execution_count": null,
      "outputs": [
        {
          "output_type": "stream",
          "name": "stdout",
          "text": [
            "['apple', 'banana', 'cherry']\n"
          ]
        }
      ]
    },
    {
      "cell_type": "code",
      "source": [
        "x = [\"apple\", \"banana\", \"cherry\"]\n",
        "y = x[:]\n",
        "print(y)"
      ],
      "metadata": {
        "colab": {
          "base_uri": "https://localhost:8080/"
        },
        "id": "lu-R-v9MW0ww",
        "outputId": "5aca139e-e7cd-45b7-d431-fb221012cb9f"
      },
      "execution_count": null,
      "outputs": [
        {
          "output_type": "stream",
          "name": "stdout",
          "text": [
            "['apple', 'banana', 'cherry']\n"
          ]
        }
      ]
    },
    {
      "cell_type": "code",
      "source": [
        "list1 = [\"a\", \"b\", \"c\"]\n",
        "list2 = [1, 2, 3]\n",
        "\n",
        "list3 = list1 + list2\n",
        "print(list3)"
      ],
      "metadata": {
        "colab": {
          "base_uri": "https://localhost:8080/"
        },
        "id": "i0kGpLOZXHxi",
        "outputId": "9dcc8ae6-1ef0-4fe2-c531-ccdbf69b49d6"
      },
      "execution_count": null,
      "outputs": [
        {
          "output_type": "stream",
          "name": "stdout",
          "text": [
            "['a', 'b', 'c', 1, 2, 3]\n"
          ]
        }
      ]
    },
    {
      "cell_type": "code",
      "source": [
        "list1 = [\"a\", \"b\" , \"c\"]\n",
        "list2 = [1, 2, 3]\n",
        "\n",
        "for x in list2:\n",
        "  list1.append(x)\n",
        "\n",
        "print(list1)"
      ],
      "metadata": {
        "colab": {
          "base_uri": "https://localhost:8080/"
        },
        "id": "aDzJvjvoXKiq",
        "outputId": "cd36ba78-d277-4a97-86f0-f7fc63a2d509"
      },
      "execution_count": null,
      "outputs": [
        {
          "output_type": "stream",
          "name": "stdout",
          "text": [
            "['a', 'b', 'c', 1, 2, 3]\n"
          ]
        }
      ]
    },
    {
      "cell_type": "code",
      "source": [
        "list1 = [\"a\", \"b\" , \"c\"]\n",
        "list2 = [1, 2, 3]\n",
        "\n",
        "list1.extend(list2)\n",
        "\n",
        "print(list1)"
      ],
      "metadata": {
        "colab": {
          "base_uri": "https://localhost:8080/"
        },
        "id": "zoMWMMboXQ_y",
        "outputId": "927eecc5-057a-4982-a440-e6e585f642c5"
      },
      "execution_count": null,
      "outputs": [
        {
          "output_type": "stream",
          "name": "stdout",
          "text": [
            "['a', 'b', 'c', 1, 2, 3]\n"
          ]
        }
      ]
    },
    {
      "cell_type": "code",
      "source": [
        "a = [\"a\", \"b\", \"c\"]\n",
        "a.append(\"d\")\n",
        "print(a)"
      ],
      "metadata": {
        "colab": {
          "base_uri": "https://localhost:8080/"
        },
        "id": "RuxM6kLpXtih",
        "outputId": "8884cb95-a4db-4c42-8ca9-a021d76434a9"
      },
      "execution_count": null,
      "outputs": [
        {
          "output_type": "stream",
          "name": "stdout",
          "text": [
            "['a', 'b', 'c', 'd']\n"
          ]
        }
      ]
    },
    {
      "cell_type": "code",
      "source": [
        "a = [\"a\", \"b\", \"c\"]\n",
        "a.clear()\n",
        "print(a)"
      ],
      "metadata": {
        "colab": {
          "base_uri": "https://localhost:8080/"
        },
        "id": "unRt0Y_LX44Y",
        "outputId": "cdafc99f-e5c6-4a1b-c476-49bd935b2bc4"
      },
      "execution_count": null,
      "outputs": [
        {
          "output_type": "stream",
          "name": "stdout",
          "text": [
            "[]\n"
          ]
        }
      ]
    },
    {
      "cell_type": "code",
      "source": [
        "a = [\"a\", \"b\", \"c\", \"c\"]\n",
        "x=a.count('c')\n",
        "print(x)"
      ],
      "metadata": {
        "colab": {
          "base_uri": "https://localhost:8080/"
        },
        "id": "nYUP7U1sX92v",
        "outputId": "40a16d7e-0700-4e7b-c275-e9eb77fa0f0b"
      },
      "execution_count": null,
      "outputs": [
        {
          "output_type": "stream",
          "name": "stdout",
          "text": [
            "2\n"
          ]
        }
      ]
    },
    {
      "cell_type": "code",
      "source": [
        "a = [\"a\", \"b\", \"c\"]\n",
        "b= [\"d\", \"e\", \"f\"]\n",
        "a.extend(b)\n",
        "print(a)"
      ],
      "metadata": {
        "colab": {
          "base_uri": "https://localhost:8080/"
        },
        "id": "zlNMCrgFX-xM",
        "outputId": "61337919-9178-411f-f780-ce7fc42667a6"
      },
      "execution_count": null,
      "outputs": [
        {
          "output_type": "stream",
          "name": "stdout",
          "text": [
            "['a', 'b', 'c', 'd', 'e', 'f']\n"
          ]
        }
      ]
    },
    {
      "cell_type": "code",
      "source": [
        "a = [\"a\", \"b\", \"c\"]\n",
        "x = a.index(\"b\")\n",
        "print(x)"
      ],
      "metadata": {
        "colab": {
          "base_uri": "https://localhost:8080/"
        },
        "id": "CKWE7w42Yct2",
        "outputId": "4b4b6907-dc25-4903-d854-fbb054704bd9"
      },
      "execution_count": null,
      "outputs": [
        {
          "output_type": "stream",
          "name": "stdout",
          "text": [
            "1\n"
          ]
        }
      ]
    },
    {
      "cell_type": "code",
      "source": [
        "a = [\"a\", \"b\", \"c\"]\n",
        "a.insert(3,\"d\")\n",
        "print(a)"
      ],
      "metadata": {
        "colab": {
          "base_uri": "https://localhost:8080/"
        },
        "id": "xNyGPH7OYlot",
        "outputId": "ad4390fb-8e67-434a-9aef-523c1bb72ab7"
      },
      "execution_count": null,
      "outputs": [
        {
          "output_type": "stream",
          "name": "stdout",
          "text": [
            "['a', 'b', 'c', 'd']\n"
          ]
        }
      ]
    },
    {
      "cell_type": "code",
      "source": [
        "a = [\"a\", \"b\", \"c\"]\n",
        "a.pop(2)\n",
        "print(a)"
      ],
      "metadata": {
        "colab": {
          "base_uri": "https://localhost:8080/"
        },
        "id": "FS9j9b8XYuVl",
        "outputId": "84fb4ae6-603d-497c-a200-878f8fd99b0e"
      },
      "execution_count": null,
      "outputs": [
        {
          "output_type": "stream",
          "name": "stdout",
          "text": [
            "['a', 'b']\n"
          ]
        }
      ]
    },
    {
      "cell_type": "code",
      "source": [
        "a = [\"f\", \"d\", \"c\", \"b\", \"a\"]\n",
        "a.sort()\n",
        "print(a)"
      ],
      "metadata": {
        "colab": {
          "base_uri": "https://localhost:8080/"
        },
        "id": "aaetvgCmYz7m",
        "outputId": "2fdbe3c5-2444-4316-daa5-1b55b486e57e"
      },
      "execution_count": null,
      "outputs": [
        {
          "output_type": "stream",
          "name": "stdout",
          "text": [
            "['a', 'b', 'c', 'd', 'f']\n"
          ]
        }
      ]
    },
    {
      "cell_type": "markdown",
      "source": [
        "**Tuples**"
      ],
      "metadata": {
        "id": "_l1dyh_laW5T"
      }
    },
    {
      "cell_type": "markdown",
      "source": [
        "A tuple is like list of items that you can't change once it's created\n",
        "\n",
        "The data types we use in tuples are stringg, int, boolean"
      ],
      "metadata": {
        "id": "hARu-zsnaaj6"
      }
    },
    {
      "cell_type": "code",
      "source": [
        "a = (\"a\", \"b\", \"c\")\n",
        "print(a)"
      ],
      "metadata": {
        "colab": {
          "base_uri": "https://localhost:8080/"
        },
        "id": "Wcd7Pilua5N-",
        "outputId": "ee3fc101-197c-40f8-f6db-01b54c6de851"
      },
      "execution_count": null,
      "outputs": [
        {
          "output_type": "stream",
          "name": "stdout",
          "text": [
            "('a', 'b', 'c')\n"
          ]
        }
      ]
    },
    {
      "cell_type": "code",
      "source": [
        "a = (\"a\", \"b\", \"c\")\n",
        "print(len(a))"
      ],
      "metadata": {
        "colab": {
          "base_uri": "https://localhost:8080/"
        },
        "id": "7E4uamdFbaNH",
        "outputId": "419dd696-2e8e-4e4e-e67e-303cc8f2ab3a"
      },
      "execution_count": null,
      "outputs": [
        {
          "output_type": "stream",
          "name": "stdout",
          "text": [
            "3\n"
          ]
        }
      ]
    },
    {
      "cell_type": "code",
      "source": [
        "a = (\"a\", \"b\", \"c\")\n",
        "print(type(a))"
      ],
      "metadata": {
        "colab": {
          "base_uri": "https://localhost:8080/"
        },
        "id": "wC2ulSDFb51W",
        "outputId": "bbe2dcc7-bc7a-4777-f5b8-6d272631aed1"
      },
      "execution_count": null,
      "outputs": [
        {
          "output_type": "stream",
          "name": "stdout",
          "text": [
            "<class 'tuple'>\n"
          ]
        }
      ]
    },
    {
      "cell_type": "code",
      "source": [
        "x = (\"apple\", \"banana\", \"cherry\")\n",
        "print(x[1])"
      ],
      "metadata": {
        "colab": {
          "base_uri": "https://localhost:8080/"
        },
        "id": "6wPKQBLrdK9I",
        "outputId": "1f5d8bc0-5ede-4cf9-c42f-8084238b893c"
      },
      "execution_count": null,
      "outputs": [
        {
          "output_type": "stream",
          "name": "stdout",
          "text": [
            "banana\n"
          ]
        }
      ]
    },
    {
      "cell_type": "code",
      "source": [
        "x = (\"apple\", \"banana\", \"cherry\")\n",
        "print(x[-1])"
      ],
      "metadata": {
        "colab": {
          "base_uri": "https://localhost:8080/"
        },
        "id": "kngKh1BQdSri",
        "outputId": "6a624968-44f3-4e7a-9b25-6e0977de3ddb"
      },
      "execution_count": null,
      "outputs": [
        {
          "output_type": "stream",
          "name": "stdout",
          "text": [
            "cherry\n"
          ]
        }
      ]
    },
    {
      "cell_type": "code",
      "source": [
        "x = (\"apple\", \"banana\", \"cherry\", \"pineapple\",\"kiwi\" )\n",
        "print(x[2:4])"
      ],
      "metadata": {
        "colab": {
          "base_uri": "https://localhost:8080/"
        },
        "id": "cWS_6vNSdWaj",
        "outputId": "9ed6a2f1-6878-44d1-9195-7e9a7bd77270"
      },
      "execution_count": null,
      "outputs": [
        {
          "output_type": "stream",
          "name": "stdout",
          "text": [
            "('cherry', 'pineapple')\n"
          ]
        }
      ]
    },
    {
      "cell_type": "code",
      "source": [
        "x = (\"apple\", \"banana\", \"cherry\", \"orange\", \"kiwi\", \"melon\", \"mango\")\n",
        "print(x[:4])"
      ],
      "metadata": {
        "colab": {
          "base_uri": "https://localhost:8080/"
        },
        "id": "xoshJ9JbdlBT",
        "outputId": "61fc6587-5e39-4db9-b26d-c94d3c156dc4"
      },
      "execution_count": null,
      "outputs": [
        {
          "output_type": "stream",
          "name": "stdout",
          "text": [
            "('apple', 'banana', 'cherry', 'orange')\n"
          ]
        }
      ]
    },
    {
      "cell_type": "code",
      "source": [
        "x = (\"apple\", \"banana\", \"cherry\")\n",
        "if \"apple\" in x:\n",
        "  print(\"Yes, 'apple' is in the fruits tuple\")"
      ],
      "metadata": {
        "colab": {
          "base_uri": "https://localhost:8080/"
        },
        "id": "Mfs2Sd1ndxSm",
        "outputId": "85e85f1d-af12-48b2-cdc9-bf7cf99f89cd"
      },
      "execution_count": null,
      "outputs": [
        {
          "output_type": "stream",
          "name": "stdout",
          "text": [
            "Yes, 'apple' is in the fruits tuple\n"
          ]
        }
      ]
    },
    {
      "cell_type": "code",
      "source": [
        "x = (\"apple\", \"banana\", \"cherry\")\n",
        "y = list(x)\n",
        "y[1] = \"kiwi\"\n",
        "x = tuple(y)\n",
        "\n",
        "print(x)"
      ],
      "metadata": {
        "colab": {
          "base_uri": "https://localhost:8080/"
        },
        "id": "HBO-T2nweNbw",
        "outputId": "a15bf1da-2437-4124-a6f8-baaf8d74add2"
      },
      "execution_count": null,
      "outputs": [
        {
          "output_type": "stream",
          "name": "stdout",
          "text": [
            "('apple', 'kiwi', 'cherry')\n"
          ]
        }
      ]
    },
    {
      "cell_type": "code",
      "source": [
        "x = (\"apple\", \"banana\", \"cherry\")\n",
        "y = list(x)\n",
        "y.append(\"orange\" )\n",
        "x= tuple(y)\n",
        "print(x)"
      ],
      "metadata": {
        "colab": {
          "base_uri": "https://localhost:8080/"
        },
        "id": "wjMcKl3MeRYE",
        "outputId": "412917e3-977e-477b-9284-4f0b70076ea6"
      },
      "execution_count": null,
      "outputs": [
        {
          "output_type": "stream",
          "name": "stdout",
          "text": [
            "('apple', 'banana', 'cherry', 'orange')\n"
          ]
        }
      ]
    },
    {
      "cell_type": "code",
      "source": [
        "x = (\"apple\", \"banana\", \"cherry\")\n",
        "y = list(x)\n",
        "y.remove(\"apple\")\n",
        "x = tuple(y)\n",
        "print(x)"
      ],
      "metadata": {
        "id": "ivlgrEA6evjR",
        "colab": {
          "base_uri": "https://localhost:8080/"
        },
        "outputId": "e9f19af8-c9d9-451d-8a38-1d30296d7513"
      },
      "execution_count": null,
      "outputs": [
        {
          "output_type": "stream",
          "name": "stdout",
          "text": [
            "('banana', 'cherry')\n"
          ]
        }
      ]
    },
    {
      "cell_type": "code",
      "source": [
        "y = (\"apple\", \"banana\", \"cherry\")\n",
        "for x in y:\n",
        "  print(x)"
      ],
      "metadata": {
        "colab": {
          "base_uri": "https://localhost:8080/"
        },
        "id": "c9t45zfvCl6x",
        "outputId": "c0bf7028-a866-4de6-9fc1-404713c24768"
      },
      "execution_count": null,
      "outputs": [
        {
          "output_type": "stream",
          "name": "stdout",
          "text": [
            "apple\n",
            "banana\n",
            "cherry\n"
          ]
        }
      ]
    },
    {
      "cell_type": "code",
      "source": [
        "x = (\"apple\", \"banana\", \"cherry\")\n",
        "i = 0\n",
        "while i < len(x):\n",
        "  print(x[i])\n",
        "  i = i + 1"
      ],
      "metadata": {
        "colab": {
          "base_uri": "https://localhost:8080/"
        },
        "id": "2Bxnyro6Cv-Y",
        "outputId": "17b4f80a-e6c4-445e-be4e-abc00c0596d0"
      },
      "execution_count": null,
      "outputs": [
        {
          "output_type": "stream",
          "name": "stdout",
          "text": [
            "apple\n",
            "banana\n",
            "cherry\n"
          ]
        }
      ]
    },
    {
      "cell_type": "code",
      "source": [
        "tuple1 = (\"a\", \"b\" , \"c\")\n",
        "tuple2 = (1, 2, 3)\n",
        "\n",
        "tuple3 = tuple1 + tuple2\n",
        "print(tuple3)"
      ],
      "metadata": {
        "colab": {
          "base_uri": "https://localhost:8080/"
        },
        "id": "Udhdaty5C5jd",
        "outputId": "83d447b1-31bf-403d-bdd4-89798214fd31"
      },
      "execution_count": null,
      "outputs": [
        {
          "output_type": "stream",
          "name": "stdout",
          "text": [
            "('a', 'b', 'c', 1, 2, 3)\n"
          ]
        }
      ]
    },
    {
      "cell_type": "markdown",
      "source": [
        "**sets**\n"
      ],
      "metadata": {
        "id": "9Pq_evfcDDAj"
      }
    },
    {
      "cell_type": "code",
      "source": [
        "x = {\"apple\", \"banana\", \"cherry\"}\n",
        "print(type(x))"
      ],
      "metadata": {
        "colab": {
          "base_uri": "https://localhost:8080/"
        },
        "id": "Kv9CRUf-DFf4",
        "outputId": "e0b0bb40-4a7e-44e3-c911-2606b70ebc2a"
      },
      "execution_count": null,
      "outputs": [
        {
          "output_type": "stream",
          "name": "stdout",
          "text": [
            "<class 'set'>\n"
          ]
        }
      ]
    },
    {
      "cell_type": "code",
      "source": [
        "a = {\"apple\", \"banana\", \"cherry\"}\n",
        "\n",
        "for x in a:\n",
        "  print(x)"
      ],
      "metadata": {
        "colab": {
          "base_uri": "https://localhost:8080/"
        },
        "id": "y0i-dxxzDf2R",
        "outputId": "9c13a92c-d26b-4d1c-eb40-c69c06afa16c"
      },
      "execution_count": null,
      "outputs": [
        {
          "output_type": "stream",
          "name": "stdout",
          "text": [
            "banana\n",
            "cherry\n",
            "apple\n"
          ]
        }
      ]
    },
    {
      "cell_type": "code",
      "source": [
        "x = {\"apple\", \"banana\", \"cherry\"}\n",
        "\n",
        "x.add(\"orange\")\n",
        "\n",
        "print(x)"
      ],
      "metadata": {
        "colab": {
          "base_uri": "https://localhost:8080/"
        },
        "id": "P-jE4PXIDse0",
        "outputId": "fe7a7151-a38e-46f0-f3ef-7f4097ae488f"
      },
      "execution_count": null,
      "outputs": [
        {
          "output_type": "stream",
          "name": "stdout",
          "text": [
            "{'banana', 'orange', 'cherry', 'apple'}\n"
          ]
        }
      ]
    },
    {
      "cell_type": "code",
      "source": [
        "x = {\"apple\", \"banana\", \"cherry\"}\n",
        "y = {\"pineapple\", \"mango\", \"papaya\"}\n",
        "\n",
        "x.update(y)\n",
        "\n",
        "print(x)"
      ],
      "metadata": {
        "colab": {
          "base_uri": "https://localhost:8080/"
        },
        "id": "VufPCwVQD6Un",
        "outputId": "08d2a6dd-5bb2-4273-f792-1629beeac6f2"
      },
      "execution_count": null,
      "outputs": [
        {
          "output_type": "stream",
          "name": "stdout",
          "text": [
            "{'pineapple', 'banana', 'mango', 'cherry', 'papaya', 'apple'}\n"
          ]
        }
      ]
    },
    {
      "cell_type": "code",
      "source": [
        "x = {\"apple\", \"banana\", \"cherry\"}\n",
        "\n",
        "x.remove(\"banana\")\n",
        "\n",
        "print(x)"
      ],
      "metadata": {
        "colab": {
          "base_uri": "https://localhost:8080/"
        },
        "id": "CbVWwdSaEHpV",
        "outputId": "b922ec96-4a28-4b5c-bb5c-ce389283e20e"
      },
      "execution_count": null,
      "outputs": [
        {
          "output_type": "stream",
          "name": "stdout",
          "text": [
            "{'cherry', 'apple'}\n"
          ]
        }
      ]
    },
    {
      "cell_type": "code",
      "source": [
        "x = {\"apple\", \"banana\", \"cherry\"}\n",
        "x.discard(\"banana\")\n",
        "print(x)"
      ],
      "metadata": {
        "colab": {
          "base_uri": "https://localhost:8080/"
        },
        "id": "XTmREY8uEPC3",
        "outputId": "5b8021b0-9028-4c9f-e1d0-fe5a83436209"
      },
      "execution_count": null,
      "outputs": [
        {
          "output_type": "stream",
          "name": "stdout",
          "text": [
            "{'cherry', 'apple'}\n"
          ]
        }
      ]
    },
    {
      "cell_type": "code",
      "source": [
        "x = {\"apple\", \"banana\", \"cherry\"}\n",
        "x.clear()\n",
        "print(x)"
      ],
      "metadata": {
        "colab": {
          "base_uri": "https://localhost:8080/"
        },
        "id": "mrkPvcx0Ee_j",
        "outputId": "d97f3ac3-51c7-482f-9a85-1be0e3d080d6"
      },
      "execution_count": null,
      "outputs": [
        {
          "output_type": "stream",
          "name": "stdout",
          "text": [
            "set()\n"
          ]
        }
      ]
    },
    {
      "cell_type": "code",
      "source": [
        "set1 = {\"a\", \"b\", \"c\"}\n",
        "set2 = {1, 2, 3}\n",
        "\n",
        "set3 = set1.union(set2)\n",
        "print(set3)"
      ],
      "metadata": {
        "colab": {
          "base_uri": "https://localhost:8080/"
        },
        "id": "nnxMfjGhEt0O",
        "outputId": "851a3aeb-c490-4d93-8b0c-068e80276759"
      },
      "execution_count": null,
      "outputs": [
        {
          "output_type": "stream",
          "name": "stdout",
          "text": [
            "{1, 2, 3, 'b', 'a', 'c'}\n"
          ]
        }
      ]
    },
    {
      "cell_type": "code",
      "source": [
        "set1 = {\"a\", \"b\" , \"c\"}\n",
        "set2 = {1, 2, 3}\n",
        "\n",
        "set1.update(set2)\n",
        "print(set1)"
      ],
      "metadata": {
        "colab": {
          "base_uri": "https://localhost:8080/"
        },
        "id": "ZLM_Dy2mE0uv",
        "outputId": "362bd7fc-d6ed-4bfd-b81a-344d713a563f"
      },
      "execution_count": null,
      "outputs": [
        {
          "output_type": "stream",
          "name": "stdout",
          "text": [
            "{1, 2, 3, 'b', 'a', 'c'}\n"
          ]
        }
      ]
    },
    {
      "cell_type": "code",
      "source": [
        "set1 = {\"apple\", \"banana\", \"cherry\"}\n",
        "set2 = {\"google\", \"microsoft\", \"apple\"}\n",
        "\n",
        "set3 = set1.difference(set2)\n",
        "\n",
        "print(set3)"
      ],
      "metadata": {
        "colab": {
          "base_uri": "https://localhost:8080/"
        },
        "id": "SxWX_i-dE-V0",
        "outputId": "32a906a9-b4f5-4f74-c264-1459cdc44fde"
      },
      "execution_count": null,
      "outputs": [
        {
          "output_type": "stream",
          "name": "stdout",
          "text": [
            "{'banana', 'cherry'}\n"
          ]
        }
      ]
    },
    {
      "cell_type": "code",
      "source": [
        "set1 = {\"apple\", \"banana\", \"cherry\"}\n",
        "set2 = {\"google\", \"microsoft\", \"apple\"}\n",
        "\n",
        "set1.intersection_update(set2)\n",
        "\n",
        "print(set1)"
      ],
      "metadata": {
        "colab": {
          "base_uri": "https://localhost:8080/"
        },
        "id": "H8q9fjv_FDfa",
        "outputId": "79466e33-25aa-4f68-cc36-3e5857be95b0"
      },
      "execution_count": null,
      "outputs": [
        {
          "output_type": "stream",
          "name": "stdout",
          "text": [
            "{'apple'}\n"
          ]
        }
      ]
    },
    {
      "cell_type": "markdown",
      "source": [
        "**Dictionary**"
      ],
      "metadata": {
        "id": "JSE5WzHuFNz3"
      }
    },
    {
      "cell_type": "code",
      "source": [
        "x = {\n",
        "  \"brand\": \"Ford\",\n",
        "  \"model\": \"Mustang\",\n",
        "  \"year\": 1964\n",
        "}\n",
        "print(x)"
      ],
      "metadata": {
        "colab": {
          "base_uri": "https://localhost:8080/"
        },
        "id": "EH06T8ViFPlj",
        "outputId": "a402b38c-01e1-4814-b3c4-f4abbcfc7848"
      },
      "execution_count": null,
      "outputs": [
        {
          "output_type": "stream",
          "name": "stdout",
          "text": [
            "{'brand': 'Ford', 'model': 'Mustang', 'year': 1964}\n"
          ]
        }
      ]
    },
    {
      "cell_type": "code",
      "source": [
        "car = {\n",
        "\"brand\": \"Ford\",\n",
        "\"model\": \"Mustang\",\n",
        "\"year\": 1964\n",
        "}\n",
        "\n",
        "x = car.items()\n",
        "\n",
        "print(x)\n",
        "\n",
        "car[\"year\"] = 2020\n",
        "\n",
        "print(x)"
      ],
      "metadata": {
        "colab": {
          "base_uri": "https://localhost:8080/"
        },
        "id": "NQFOqmsXFsr5",
        "outputId": "156708b0-83d8-4813-b515-7e6fff99a02d"
      },
      "execution_count": null,
      "outputs": [
        {
          "output_type": "stream",
          "name": "stdout",
          "text": [
            "dict_items([('brand', 'Ford'), ('model', 'Mustang'), ('year', 1964)])\n",
            "dict_items([('brand', 'Ford'), ('model', 'Mustang'), ('year', 2020)])\n"
          ]
        }
      ]
    },
    {
      "cell_type": "code",
      "source": [
        "x = {\n",
        "  \"brand\": \"Ford\",\n",
        "  \"model\": \"Mustang\",\n",
        "  \"year\": 1964\n",
        "}\n",
        "x.update({\"year\": 2020})\n",
        "print(x)"
      ],
      "metadata": {
        "colab": {
          "base_uri": "https://localhost:8080/"
        },
        "id": "QpDn8Nn5F4oa",
        "outputId": "3bab410f-ef39-404f-cf85-20800d109f6c"
      },
      "execution_count": null,
      "outputs": [
        {
          "output_type": "stream",
          "name": "stdout",
          "text": [
            "{'brand': 'Ford', 'model': 'Mustang', 'year': 2020}\n"
          ]
        }
      ]
    },
    {
      "cell_type": "code",
      "source": [
        "x = {\n",
        "  \"brand\": \"Ford\",\n",
        "  \"model\": \"Mustang\",\n",
        "  \"year\": 1964\n",
        "}\n",
        "x.clear()\n",
        "print(x)"
      ],
      "metadata": {
        "colab": {
          "base_uri": "https://localhost:8080/"
        },
        "id": "doCNi8IbPFxs",
        "outputId": "61ae8059-a1d1-4dc7-c7c5-b40c0835792e"
      },
      "execution_count": null,
      "outputs": [
        {
          "output_type": "stream",
          "name": "stdout",
          "text": [
            "{}\n"
          ]
        }
      ]
    },
    {
      "cell_type": "code",
      "source": [
        "thisdict =\t{\n",
        "  \"brand\": \"Ford\",\n",
        "  \"model\": \"Mustang\",\n",
        "  \"year\": 1964\n",
        "}\n",
        "for x in thisdict:\n",
        "  print(x)\n"
      ],
      "metadata": {
        "colab": {
          "base_uri": "https://localhost:8080/"
        },
        "id": "97mkn7iqPcvH",
        "outputId": "69cb586c-b14f-489f-aab8-93b6993e503d"
      },
      "execution_count": null,
      "outputs": [
        {
          "output_type": "stream",
          "name": "stdout",
          "text": [
            "brand\n",
            "model\n",
            "year\n"
          ]
        }
      ]
    },
    {
      "cell_type": "code",
      "source": [
        "x = {\n",
        "  \"brand\": \"Ford\",\n",
        "  \"model\": \"Mustang\",\n",
        "  \"year\": 1964\n",
        "}\n",
        "x.update({\"color\": \"red\"})\n",
        "print(x)"
      ],
      "metadata": {
        "colab": {
          "base_uri": "https://localhost:8080/"
        },
        "id": "sdlrPvzcGP8k",
        "outputId": "8db5ee72-72d0-4978-807d-7e170c6e3adc"
      },
      "execution_count": null,
      "outputs": [
        {
          "output_type": "stream",
          "name": "stdout",
          "text": [
            "{'brand': 'Ford', 'model': 'Mustang', 'year': 1964, 'color': 'red'}\n"
          ]
        }
      ]
    },
    {
      "cell_type": "code",
      "source": [
        "y = {\n",
        "  \"brand\": \"Ford\",\n",
        "  \"model\": \"Mustang\",\n",
        "  \"year\": 1964\n",
        "}\n",
        "x = y.copy()\n",
        "print(x)"
      ],
      "metadata": {
        "colab": {
          "base_uri": "https://localhost:8080/"
        },
        "id": "UrhGwNB8PfUC",
        "outputId": "afdaee27-04e2-469d-d153-bcc26c51ebe9"
      },
      "execution_count": null,
      "outputs": [
        {
          "output_type": "stream",
          "name": "stdout",
          "text": [
            "{'brand': 'Ford', 'model': 'Mustang', 'year': 1964}\n"
          ]
        }
      ]
    },
    {
      "cell_type": "code",
      "source": [
        "myfamily = {\n",
        "  \"child1\" : {\n",
        "    \"name\" : \"chinni\",\n",
        "    \"year\" : 2004\n",
        "  },\n",
        "  \"child2\" : {\n",
        "    \"name\" : \"bunny\",\n",
        "    \"year\" : 2007\n",
        "  },\n",
        "  \"child3\" : {\n",
        "    \"name\" : \"munny\",\n",
        "    \"year\" : 2011\n",
        "  }\n",
        "}\n",
        "\n",
        "print(myfamily)"
      ],
      "metadata": {
        "colab": {
          "base_uri": "https://localhost:8080/"
        },
        "id": "poD79H7EPz44",
        "outputId": "38987d20-9dc2-4a51-e3ce-7394a6378973"
      },
      "execution_count": null,
      "outputs": [
        {
          "output_type": "stream",
          "name": "stdout",
          "text": [
            "{'child1': {'name': 'chinni', 'year': 2004}, 'child2': {'name': 'bunny', 'year': 2007}, 'child3': {'name': 'munny', 'year': 2011}}\n"
          ]
        }
      ]
    },
    {
      "cell_type": "markdown",
      "source": [
        "**Python Conditions**"
      ],
      "metadata": {
        "id": "hDKscQbIQNgB"
      }
    },
    {
      "cell_type": "code",
      "source": [
        "age = int(input(\"Enter your age: \"))\n",
        "\n",
        "if age >= 18:\n",
        "    print(\"You are eligible to vote.\")\n",
        "else:\n",
        "    print(\"You are not eligible to vote.\")\n"
      ],
      "metadata": {
        "colab": {
          "base_uri": "https://localhost:8080/"
        },
        "id": "KoXpiVFyQVIl",
        "outputId": "75c6313d-2cf6-4b44-b69e-ccfaecef1f74"
      },
      "execution_count": null,
      "outputs": [
        {
          "output_type": "stream",
          "name": "stdout",
          "text": [
            "Enter your age: 20\n",
            "You are eligible to vote.\n"
          ]
        }
      ]
    },
    {
      "cell_type": "code",
      "source": [
        "a = int(input(\"Enter first number: \"))\n",
        "b = int(input(\"Enter second number: \"))\n",
        "c = int(input(\"Enter third number: \"))\n",
        "\n",
        "if a >= b and a >= c:\n",
        "    print(\"The greatest number is:\", a)\n",
        "elif b >= a and b >= c:\n",
        "    print(\"The greatest number is:\", b)\n",
        "else:\n",
        "    print(\"The greatest number is:\", c)\n"
      ],
      "metadata": {
        "colab": {
          "base_uri": "https://localhost:8080/"
        },
        "id": "CD9JukFTQek6",
        "outputId": "b10a560f-ee44-4591-974c-c78b8db74055"
      },
      "execution_count": null,
      "outputs": [
        {
          "output_type": "stream",
          "name": "stdout",
          "text": [
            "Enter first number: 5\n",
            "Enter second number: 7\n",
            "Enter third number: 9\n",
            "The greatest number is: 9\n"
          ]
        }
      ]
    },
    {
      "cell_type": "code",
      "source": [
        "num1 = float(input(\"Enter first number: \"))\n",
        "num2 = float(input(\"Enter second number: \"))\n",
        "\n",
        "print(\"\\nChoose operation:\")\n",
        "print(\"1. Addition (+)\")\n",
        "print(\"2. Subtraction (-)\")\n",
        "print(\"3. Multiplication (*)\")\n",
        "print(\"4. Division (/)\")\n",
        "print(\"5. Modulus (%)\")\n",
        "print(\"6. Exponent (**)\")\n",
        "print(\"7. Floor Division (//)\")\n",
        "\n",
        "choice = int(input(\"Enter your choice (1-7): \"))\n",
        "\n",
        "match choice:\n",
        "    case 1:\n",
        "        print(\"Result:\", num1 + num2)\n",
        "    case 2:\n",
        "        print(\"Result:\", num1 - num2)\n",
        "    case 3:\n",
        "        print(\"Result:\", num1 * num2)\n",
        "    case 4:\n",
        "        if num2 != 0:\n",
        "            print(\"Result:\", num1 / num2)\n",
        "        else:\n",
        "            print(\"Error: Division by zero\")\n",
        "    case 5:\n",
        "        print(\"Result:\", num1 % num2)\n",
        "    case 6:\n",
        "        print(\"Result:\", num1 ** num2)\n",
        "    case 7:\n",
        "        if num2 != 0:\n",
        "            print(\"Result:\", num1 // num2)\n",
        "        else:\n",
        "            print(\"Error: Division by zero\")\n",
        "    case _:\n",
        "        print(\"Invalid choice\")\n"
      ],
      "metadata": {
        "colab": {
          "base_uri": "https://localhost:8080/"
        },
        "id": "1op5CjioQiT1",
        "outputId": "6083fd91-2105-4707-b35d-ba4fa51e7fe5"
      },
      "execution_count": null,
      "outputs": [
        {
          "output_type": "stream",
          "name": "stdout",
          "text": [
            "Enter first number: 7\n",
            "Enter second number: 9\n",
            "\n",
            "Choose operation:\n",
            "1. Addition (+)\n",
            "2. Subtraction (-)\n",
            "3. Multiplication (*)\n",
            "4. Division (/)\n",
            "5. Modulus (%)\n",
            "6. Exponent (**)\n",
            "7. Floor Division (//)\n",
            "Enter your choice (1-7): 3\n",
            "Result: 63.0\n"
          ]
        }
      ]
    },
    {
      "cell_type": "markdown",
      "source": [
        "# **DAY-2 TASK**"
      ],
      "metadata": {
        "id": "cm_KcSSn5dxb"
      }
    },
    {
      "cell_type": "markdown",
      "source": [
        "**LOOPS**\n",
        "\n",
        "for loops\n",
        "\n",
        "while loops"
      ],
      "metadata": {
        "id": "SGZ1jJ9pWxv-"
      }
    },
    {
      "cell_type": "markdown",
      "source": [
        "A for loop is used to repeat a block of code for each element in a sequence  until all elements are covered.\n",
        "\n",
        "syntax:\n",
        "\n",
        "for variable in sequence:\n"
      ],
      "metadata": {
        "id": "4DLosXRRXYIo"
      }
    },
    {
      "cell_type": "code",
      "source": [
        "a = [\"32\", \"56\", \"79\"]\n",
        "for x in a:\n",
        "  print(x)"
      ],
      "metadata": {
        "id": "6VDk_tP9W9zp",
        "outputId": "a266871a-3f47-462a-8f3d-464cb8baf72f",
        "colab": {
          "base_uri": "https://localhost:8080/"
        }
      },
      "execution_count": null,
      "outputs": [
        {
          "output_type": "stream",
          "name": "stdout",
          "text": [
            "32\n",
            "56\n",
            "79\n"
          ]
        }
      ]
    },
    {
      "cell_type": "markdown",
      "source": [
        "when we want to loop a specific number of times we use range()"
      ],
      "metadata": {
        "id": "SeDnDhZIZhNB"
      }
    },
    {
      "cell_type": "code",
      "source": [
        "for  i in range(6):\n",
        "  print(i)"
      ],
      "metadata": {
        "id": "Ej31tYbOZta5",
        "outputId": "df33e8a3-b29d-4539-b506-12b3ec58d52b",
        "colab": {
          "base_uri": "https://localhost:8080/"
        }
      },
      "execution_count": null,
      "outputs": [
        {
          "output_type": "stream",
          "name": "stdout",
          "text": [
            "0\n",
            "1\n",
            "2\n",
            "3\n",
            "4\n",
            "5\n"
          ]
        }
      ]
    },
    {
      "cell_type": "code",
      "source": [
        "for char in \"Python\":\n",
        "    print(char)\n"
      ],
      "metadata": {
        "id": "OdLBp6e5Z4y1",
        "outputId": "c129bee8-b7dd-47f8-9ec1-19f6cbed9e3c",
        "colab": {
          "base_uri": "https://localhost:8080/"
        }
      },
      "execution_count": null,
      "outputs": [
        {
          "output_type": "stream",
          "name": "stdout",
          "text": [
            "P\n",
            "y\n",
            "t\n",
            "h\n",
            "o\n",
            "n\n"
          ]
        }
      ]
    },
    {
      "cell_type": "code",
      "source": [
        "student = {\"name\": \"Alice\", \"age\": 20}\n",
        "for key, value in student.items():\n",
        "    print(key, value)\n"
      ],
      "metadata": {
        "id": "5FBuQ3ZLaBfB",
        "outputId": "4d29d94c-eb92-41b9-f06b-daaea3c8e742",
        "colab": {
          "base_uri": "https://localhost:8080/"
        }
      },
      "execution_count": null,
      "outputs": [
        {
          "output_type": "stream",
          "name": "stdout",
          "text": [
            "name Alice\n",
            "age 20\n"
          ]
        }
      ]
    },
    {
      "cell_type": "code",
      "source": [
        "for i in range(6):\n",
        "    for j in range(6):\n",
        "        print(\"*\",end=\"\")\n",
        "    print()\n"
      ],
      "metadata": {
        "id": "OJBzqr83cHPC",
        "outputId": "b631835b-2e18-4f17-c370-44a2803c0869",
        "colab": {
          "base_uri": "https://localhost:8080/"
        }
      },
      "execution_count": null,
      "outputs": [
        {
          "output_type": "stream",
          "name": "stdout",
          "text": [
            "******\n",
            "******\n",
            "******\n",
            "******\n",
            "******\n",
            "******\n"
          ]
        }
      ]
    },
    {
      "cell_type": "code",
      "source": [
        "for i in range(10):\n",
        "  if i == 7:\n",
        "       break\n",
        "  print(i)"
      ],
      "metadata": {
        "id": "fJRUDgrbcwfJ",
        "outputId": "8b918e66-4e7f-4159-dce0-f24301468511",
        "colab": {
          "base_uri": "https://localhost:8080/"
        }
      },
      "execution_count": null,
      "outputs": [
        {
          "output_type": "stream",
          "name": "stdout",
          "text": [
            "0\n",
            "1\n",
            "2\n",
            "3\n",
            "4\n",
            "5\n",
            "6\n"
          ]
        }
      ]
    },
    {
      "cell_type": "code",
      "source": [
        "for i in range(10):\n",
        "    if i == 6:\n",
        "        continue\n",
        "    print(i)"
      ],
      "metadata": {
        "id": "-LbgH8z9dIP4",
        "outputId": "f6e42576-bfa4-4217-c303-a85507439a58",
        "colab": {
          "base_uri": "https://localhost:8080/"
        }
      },
      "execution_count": null,
      "outputs": [
        {
          "output_type": "stream",
          "name": "stdout",
          "text": [
            "0\n",
            "1\n",
            "2\n",
            "3\n",
            "4\n",
            "5\n",
            "7\n",
            "8\n",
            "9\n"
          ]
        }
      ]
    },
    {
      "cell_type": "markdown",
      "source": [
        "else with for - Runs if loop finishes without break"
      ],
      "metadata": {
        "id": "rhZO_5nbda5H"
      }
    },
    {
      "cell_type": "code",
      "source": [
        "for num in range(3):\n",
        "    print(num)\n",
        "else:\n",
        "    print(\"Loop completed\")"
      ],
      "metadata": {
        "id": "KO-wCTWmeAWo",
        "outputId": "442cdd85-41ac-4876-f93e-83fb34509ef8",
        "colab": {
          "base_uri": "https://localhost:8080/"
        }
      },
      "execution_count": null,
      "outputs": [
        {
          "output_type": "stream",
          "name": "stdout",
          "text": [
            "0\n",
            "1\n",
            "2\n",
            "Loop completed\n"
          ]
        }
      ]
    },
    {
      "cell_type": "code",
      "source": [
        "for i in range(10):\n",
        "  if i ==6:\n",
        "       continue\n",
        "  print(i)\n",
        "else:\n",
        "    print(\"funished\")"
      ],
      "metadata": {
        "id": "2hom7raldYzz",
        "outputId": "91b26a49-daba-4650-b043-61b1719f3788",
        "colab": {
          "base_uri": "https://localhost:8080/"
        }
      },
      "execution_count": null,
      "outputs": [
        {
          "output_type": "stream",
          "name": "stdout",
          "text": [
            "0\n",
            "1\n",
            "2\n",
            "3\n",
            "4\n",
            "5\n",
            "7\n",
            "8\n",
            "9\n",
            "funished\n"
          ]
        }
      ]
    },
    {
      "cell_type": "code",
      "source": [
        "for x in range(2, 30, 3):\n",
        "  print(x)"
      ],
      "metadata": {
        "id": "pK8W3G4Vdahp",
        "outputId": "5f9a4ce4-12c5-43a2-f238-6d6a5fe8dc64",
        "colab": {
          "base_uri": "https://localhost:8080/"
        }
      },
      "execution_count": null,
      "outputs": [
        {
          "output_type": "stream",
          "name": "stdout",
          "text": [
            "2\n",
            "5\n",
            "8\n",
            "11\n",
            "14\n",
            "17\n",
            "20\n",
            "23\n",
            "26\n",
            "29\n"
          ]
        }
      ]
    },
    {
      "cell_type": "markdown",
      "source": [
        "The while loop we can execute a set of statements as long as a condition is true.\n",
        "\n",
        "syntax:\n",
        "\n",
        "while condition:"
      ],
      "metadata": {
        "id": "6_46eMOOfPW8"
      }
    },
    {
      "cell_type": "code",
      "source": [
        "i = 0\n",
        "while i <= 5:\n",
        "    print(i)\n",
        "    i+=1"
      ],
      "metadata": {
        "id": "GoNuvGI3fgAh",
        "outputId": "b824555c-6f84-478e-a83f-ab16c2aa5e9c",
        "colab": {
          "base_uri": "https://localhost:8080/"
        }
      },
      "execution_count": null,
      "outputs": [
        {
          "output_type": "stream",
          "name": "stdout",
          "text": [
            "0\n",
            "1\n",
            "2\n",
            "3\n",
            "4\n",
            "5\n"
          ]
        }
      ]
    },
    {
      "cell_type": "code",
      "source": [
        "i= 0\n",
        "while i <= 5:\n",
        "    print(i)\n",
        "    if i ==3:\n",
        "        break\n",
        "    i += 1"
      ],
      "metadata": {
        "id": "1hlIRLzggN3F",
        "outputId": "bec3731b-de53-4489-9f38-467fce841895",
        "colab": {
          "base_uri": "https://localhost:8080/"
        }
      },
      "execution_count": null,
      "outputs": [
        {
          "output_type": "stream",
          "name": "stdout",
          "text": [
            "0\n",
            "1\n",
            "2\n",
            "3\n"
          ]
        }
      ]
    },
    {
      "cell_type": "code",
      "source": [
        "i= 0\n",
        "while i <= 5:\n",
        "    i += 1\n",
        "    if i ==3:\n",
        "        continue\n",
        "    print(i)"
      ],
      "metadata": {
        "id": "KLVrdeAng80N",
        "outputId": "3288d798-237a-485b-99f2-eb9cb0d4dffb",
        "colab": {
          "base_uri": "https://localhost:8080/"
        }
      },
      "execution_count": null,
      "outputs": [
        {
          "output_type": "stream",
          "name": "stdout",
          "text": [
            "1\n",
            "2\n",
            "4\n",
            "5\n",
            "6\n"
          ]
        }
      ]
    },
    {
      "cell_type": "code",
      "source": [
        "i = 1\n",
        "while i < 6:\n",
        "  print(i)\n",
        "  i += 1\n",
        "else:\n",
        "  print(\"i is no longer less than 6\")"
      ],
      "metadata": {
        "id": "i1B-hiVchRw7",
        "outputId": "97e3e5f5-195a-4d89-a4f4-5c1e552a3606",
        "colab": {
          "base_uri": "https://localhost:8080/"
        }
      },
      "execution_count": null,
      "outputs": [
        {
          "output_type": "stream",
          "name": "stdout",
          "text": [
            "1\n",
            "2\n",
            "3\n",
            "4\n",
            "5\n",
            "i is no longer less than 6\n"
          ]
        }
      ]
    },
    {
      "cell_type": "markdown",
      "source": [
        "Write a program that prints all even numbers from 1 to 50 using a for loop and if condition."
      ],
      "metadata": {
        "id": "QCnCcmUmlZ_8"
      }
    },
    {
      "cell_type": "code",
      "source": [
        "for i in range(1,50):\n",
        "  if i % 2 == 0:\n",
        "    print(i)"
      ],
      "metadata": {
        "colab": {
          "base_uri": "https://localhost:8080/"
        },
        "id": "vu7jb-Wji-Ep",
        "outputId": "499518cb-3773-4b5e-cf33-4be145e97241"
      },
      "execution_count": null,
      "outputs": [
        {
          "output_type": "stream",
          "name": "stdout",
          "text": [
            "2\n",
            "4\n",
            "6\n",
            "8\n",
            "10\n",
            "12\n",
            "14\n",
            "16\n",
            "18\n",
            "20\n",
            "22\n",
            "24\n",
            "26\n",
            "28\n",
            "30\n",
            "32\n",
            "34\n",
            "36\n",
            "38\n",
            "40\n",
            "42\n",
            "44\n",
            "46\n",
            "48\n"
          ]
        }
      ]
    },
    {
      "cell_type": "markdown",
      "source": [
        "Using a while loop, calculate the sum of all numbers entered by the user until the user types 0."
      ],
      "metadata": {
        "id": "ofl8K1D7ldNm"
      }
    },
    {
      "cell_type": "code",
      "source": [
        "i = 0\n",
        "\n",
        "while True:\n",
        "    num = int(input(\"Enter a number (0 to stop): \"))\n",
        "\n",
        "    if num == 0:\n",
        "        break\n",
        "\n",
        "    i += num\n",
        "\n",
        "print(\"Total sum:\", i)\n"
      ],
      "metadata": {
        "colab": {
          "base_uri": "https://localhost:8080/"
        },
        "id": "BubDNW8blCi7",
        "outputId": "d45c21d4-2310-4952-c185-1c4dda49fae3"
      },
      "execution_count": null,
      "outputs": [
        {
          "output_type": "stream",
          "name": "stdout",
          "text": [
            "Enter a number (0 to stop): 8\n",
            "Enter a number (0 to stop): 9\n",
            "Enter a number (0 to stop): 0\n",
            "Total sum: 17\n"
          ]
        }
      ]
    },
    {
      "cell_type": "markdown",
      "source": [
        "Take a string as input and count how many vowels it contains using a for loop and if condition."
      ],
      "metadata": {
        "id": "vIY0-s-Ilp0q"
      }
    },
    {
      "cell_type": "code",
      "source": [
        "a = \"higher-level-language\"\n",
        "b = \"aeiouAEIOU\"\n",
        "count = 0\n",
        "for char in a:\n",
        "    if char in b:\n",
        "        count += 1\n",
        "print(count)"
      ],
      "metadata": {
        "colab": {
          "base_uri": "https://localhost:8080/"
        },
        "id": "7gXfy1lTlpeh",
        "outputId": "0637a454-0c50-41e7-c9af-f5300aa33951"
      },
      "execution_count": null,
      "outputs": [
        {
          "output_type": "stream",
          "name": "stdout",
          "text": [
            "8\n"
          ]
        }
      ]
    },
    {
      "cell_type": "markdown",
      "source": [
        "Write a program to print the multiplication table of a given number using a loop."
      ],
      "metadata": {
        "id": "x7VVv6VYnC_6"
      }
    },
    {
      "cell_type": "code",
      "source": [
        "num = int(input())\n",
        "for i in range(1,11):\n",
        "    print(num, \"x\", i, \"=\", num*i)"
      ],
      "metadata": {
        "colab": {
          "base_uri": "https://localhost:8080/"
        },
        "id": "64UUmYeYnCS0",
        "outputId": "a5499e0e-4d8c-4bf2-e7a7-c21223f4f3bc"
      },
      "execution_count": null,
      "outputs": [
        {
          "output_type": "stream",
          "name": "stdout",
          "text": [
            "7\n",
            "7 x 1 = 7\n",
            "7 x 2 = 14\n",
            "7 x 3 = 21\n",
            "7 x 4 = 28\n",
            "7 x 5 = 35\n",
            "7 x 6 = 42\n",
            "7 x 7 = 49\n",
            "7 x 8 = 56\n",
            "7 x 9 = 63\n",
            "7 x 10 = 70\n"
          ]
        }
      ]
    },
    {
      "cell_type": "markdown",
      "source": [
        "Write a program that continuously takes integer input from the user and prints them. Stop the loop (using break) if the user enters a negative number"
      ],
      "metadata": {
        "id": "p52fspA3oLOq"
      }
    },
    {
      "cell_type": "code",
      "source": [
        "i = 0\n",
        "while True:\n",
        "    num = int(input(\"Enter a number: \"))\n",
        "    if num < 0:\n",
        "        break\n",
        "print(i)\n"
      ],
      "metadata": {
        "colab": {
          "base_uri": "https://localhost:8080/"
        },
        "id": "O70cuqqnuPgE",
        "outputId": "a008893f-0fea-4010-c5e4-269d3c9f2754"
      },
      "execution_count": null,
      "outputs": [
        {
          "output_type": "stream",
          "name": "stdout",
          "text": [
            "Enter a number: 8\n",
            "Enter a number: 0\n",
            "Enter a number: -0\n",
            "Enter a number: -8\n",
            "0\n"
          ]
        }
      ]
    },
    {
      "cell_type": "markdown",
      "source": [
        "Write a program that prints numbers from 1 to 20 but skips numbers divisible by 3 using continue."
      ],
      "metadata": {
        "id": "vwYFbIWtvYxo"
      }
    },
    {
      "cell_type": "code",
      "source": [
        "for i in range(1,20):\n",
        "  if i % 3 == 0:\n",
        "      continue\n",
        "  print(i)"
      ],
      "metadata": {
        "colab": {
          "base_uri": "https://localhost:8080/"
        },
        "id": "qnukBDDXvcId",
        "outputId": "da585a5f-ec80-434b-eeb1-2d8c0ce43d36"
      },
      "execution_count": null,
      "outputs": [
        {
          "output_type": "stream",
          "name": "stdout",
          "text": [
            "1\n",
            "2\n",
            "4\n",
            "5\n",
            "7\n",
            "8\n",
            "10\n",
            "11\n",
            "13\n",
            "14\n",
            "16\n",
            "17\n",
            "19\n"
          ]
        }
      ]
    },
    {
      "cell_type": "markdown",
      "source": [
        "Write a program that calculates the factorial of a number using a for loop.\n"
      ],
      "metadata": {
        "id": "ap_yWrGPw6Iq"
      }
    },
    {
      "cell_type": "code",
      "source": [
        "num = int(input())\n",
        "fact = 1\n",
        "for i in range(2, num + 1):\n",
        "    fact = fact * i\n",
        "print(fact)"
      ],
      "metadata": {
        "colab": {
          "base_uri": "https://localhost:8080/"
        },
        "id": "Uk_cHDnYw9GP",
        "outputId": "24aeb79d-b76e-45f6-ba4e-f66966862b25"
      },
      "execution_count": null,
      "outputs": [
        {
          "output_type": "stream",
          "name": "stdout",
          "text": [
            "5\n",
            "120\n"
          ]
        }
      ]
    },
    {
      "cell_type": "markdown",
      "source": [
        "patterns program\n",
        "\n",
        "\n"
      ],
      "metadata": {
        "id": "sZdPnj5Uxd3p"
      }
    },
    {
      "cell_type": "code",
      "source": [
        "for x in range(1,6):\n",
        "  for y in range(1,x+1):\n",
        "    print(\"*\",end=\"\")\n",
        "  print()"
      ],
      "metadata": {
        "colab": {
          "base_uri": "https://localhost:8080/"
        },
        "id": "geOjK3O8xjuT",
        "outputId": "9fad8b02-0bf8-4466-fc7d-5579a0b8173d"
      },
      "execution_count": null,
      "outputs": [
        {
          "output_type": "stream",
          "name": "stdout",
          "text": [
            "*\n",
            "**\n",
            "***\n",
            "****\n",
            "*****\n"
          ]
        }
      ]
    },
    {
      "cell_type": "code",
      "source": [
        "x = 5\n",
        "for i in range (1,x +1):\n",
        "  print(i * \"*\")"
      ],
      "metadata": {
        "id": "X0AxaUGhZLhZ",
        "outputId": "bb70772d-5d19-4b1c-c5b1-f5632ebcb482",
        "colab": {
          "base_uri": "https://localhost:8080/"
        }
      },
      "execution_count": null,
      "outputs": [
        {
          "output_type": "stream",
          "name": "stdout",
          "text": [
            "*\n",
            "**\n",
            "***\n",
            "****\n",
            "*****\n"
          ]
        }
      ]
    },
    {
      "cell_type": "markdown",
      "source": [
        "PRIME NUMBERS CODE"
      ],
      "metadata": {
        "id": "B7GI84hH16KJ"
      }
    },
    {
      "cell_type": "code",
      "source": [
        "x = int(input())\n",
        "for num in range(2, x+1):\n",
        "    for i in range(2, num):\n",
        "        if num % i == 0:\n",
        "            break\n",
        "    else:\n",
        "        print(num, end=\" \")\n"
      ],
      "metadata": {
        "colab": {
          "base_uri": "https://localhost:8080/"
        },
        "id": "1u-P_6cG15oE",
        "outputId": "2cc2e70d-d8d6-46ed-8fe4-2e809610d309"
      },
      "execution_count": null,
      "outputs": [
        {
          "output_type": "stream",
          "name": "stdout",
          "text": [
            "50\n",
            "2 3 5 7 11 13 17 19 23 29 31 37 41 43 47 "
          ]
        }
      ]
    },
    {
      "cell_type": "code",
      "source": [
        "x = int(input())\n",
        "divisior = 0\n",
        "for i in range(2,x+1):\n",
        "      y = x % i\n",
        "      if y == 0:\n",
        "        divisior += 1\n",
        "        if divisior == 1:\n",
        "          print(\"prime\")\n",
        "        else:\n",
        "          print(\"not prime\")\n"
      ],
      "metadata": {
        "id": "skWp3m34bapS",
        "outputId": "c2ad6fbd-566b-4b56-900e-98d38f662580",
        "colab": {
          "base_uri": "https://localhost:8080/"
        }
      },
      "execution_count": null,
      "outputs": [
        {
          "output_type": "stream",
          "name": "stdout",
          "text": [
            "11\n",
            "prime\n"
          ]
        }
      ]
    },
    {
      "cell_type": "markdown",
      "source": [
        "**functions**"
      ],
      "metadata": {
        "id": "jd7LvhB8xd5U"
      }
    },
    {
      "cell_type": "markdown",
      "source": [
        "A function is a block of code which only runs when it is called.\n",
        "\n",
        "Functions are reusable blocks of code designed to perform a specific task. Instead of writing the same code multiple times, you can define a function once and call it whenever needed.\n",
        "\n",
        "def function_name(parameters):\n",
        "\n",
        "    # function body\n",
        "    return result\n",
        "\n"
      ],
      "metadata": {
        "id": "GSBQY7zDxhDx"
      }
    },
    {
      "cell_type": "code",
      "source": [
        "def greet():\n",
        "    print(\"Hello, welcome to Python!\")\n",
        "\n",
        "greet()\n"
      ],
      "metadata": {
        "id": "M6PPYf9_yB-6",
        "outputId": "f128c76e-7fbb-43f8-cfb2-7d149060f67f",
        "colab": {
          "base_uri": "https://localhost:8080/"
        }
      },
      "execution_count": null,
      "outputs": [
        {
          "output_type": "stream",
          "name": "stdout",
          "text": [
            "Hello, welcome to Python!\n"
          ]
        }
      ]
    },
    {
      "cell_type": "code",
      "source": [
        "def add(a, b):\n",
        "    return a + b\n",
        "\n",
        "result = add(5, 3)\n",
        "print(\"Sum:\", result)\n"
      ],
      "metadata": {
        "id": "TUafhyUPyeyh",
        "outputId": "9a75f45e-eba0-4788-a8f5-ed1fcc220931",
        "colab": {
          "base_uri": "https://localhost:8080/"
        }
      },
      "execution_count": null,
      "outputs": [
        {
          "output_type": "stream",
          "name": "stdout",
          "text": [
            "Sum: 8\n"
          ]
        }
      ]
    },
    {
      "cell_type": "code",
      "source": [
        "def greet(name=\"User\"):\n",
        "    print(\"Hello,\", name)\n",
        "\n",
        "greet()\n",
        "greet(\"Meena\")"
      ],
      "metadata": {
        "id": "1C6Hdooiyt3O",
        "outputId": "262e0b2e-ad4e-47a8-9aa6-a8cb05ea9074",
        "colab": {
          "base_uri": "https://localhost:8080/"
        }
      },
      "execution_count": null,
      "outputs": [
        {
          "output_type": "stream",
          "name": "stdout",
          "text": [
            "Hello, User\n",
            "Hello, Meena\n"
          ]
        }
      ]
    },
    {
      "cell_type": "code",
      "source": [
        "def my_function(fname, lname):\n",
        "  print(fname + \" \" + lname)\n",
        "\n",
        "my_function(\"Emil\", \"Refsnes\")"
      ],
      "metadata": {
        "id": "brkOdh97zB-f",
        "outputId": "768a5758-f0f4-4320-a06e-9bc4ffdedb05",
        "colab": {
          "base_uri": "https://localhost:8080/"
        }
      },
      "execution_count": null,
      "outputs": [
        {
          "output_type": "stream",
          "name": "stdout",
          "text": [
            "Emil Refsnes\n"
          ]
        }
      ]
    },
    {
      "cell_type": "code",
      "source": [
        "def my_function(food):\n",
        "  for x in food:\n",
        "    print(x)\n",
        "\n",
        "fruits = [\"apple\", \"banana\", \"cherry\"]\n",
        "\n",
        "my_function(fruits)"
      ],
      "metadata": {
        "id": "UiJsRnOtzPEo",
        "outputId": "ad76ceb4-b820-4bb4-8984-dfdc55948a39",
        "colab": {
          "base_uri": "https://localhost:8080/"
        }
      },
      "execution_count": null,
      "outputs": [
        {
          "output_type": "stream",
          "name": "stdout",
          "text": [
            "apple\n",
            "banana\n",
            "cherry\n"
          ]
        }
      ]
    },
    {
      "cell_type": "code",
      "source": [
        "def my_function(x):\n",
        "  return 5 * x\n",
        "\n",
        "print(my_function(3))\n",
        "print(my_function(5))\n",
        "print(my_function(9))"
      ],
      "metadata": {
        "id": "ukeplkkmzduS",
        "outputId": "cadb639f-fe37-472b-eb56-5ec762fcd975",
        "colab": {
          "base_uri": "https://localhost:8080/"
        }
      },
      "execution_count": null,
      "outputs": [
        {
          "output_type": "stream",
          "name": "stdout",
          "text": [
            "15\n",
            "25\n",
            "45\n"
          ]
        }
      ]
    },
    {
      "cell_type": "code",
      "source": [
        "def my_function(x):\n",
        "  print(x)\n",
        "\n",
        "my_function(x = 3)"
      ],
      "metadata": {
        "id": "OP6cI3IiznEh",
        "outputId": "2af8d92d-a10b-454a-e267-3d1023a876b2",
        "colab": {
          "base_uri": "https://localhost:8080/"
        }
      },
      "execution_count": null,
      "outputs": [
        {
          "output_type": "stream",
          "name": "stdout",
          "text": [
            "3\n"
          ]
        }
      ]
    },
    {
      "cell_type": "code",
      "source": [
        "def factorial(n):\n",
        "    if n == 1:\n",
        "        return 1\n",
        "    return n * factorial(n - 1)\n",
        "print(factorial(4))"
      ],
      "metadata": {
        "colab": {
          "base_uri": "https://localhost:8080/"
        },
        "id": "S-HfqsRudwsH",
        "outputId": "ec0b7829-1e61-46b7-f91f-59fa80c2693e"
      },
      "execution_count": null,
      "outputs": [
        {
          "output_type": "stream",
          "name": "stdout",
          "text": [
            "24\n"
          ]
        }
      ]
    },
    {
      "cell_type": "code",
      "source": [
        "def factorial(n):\n",
        "    result = 1\n",
        "    for i in range (1, n+1):\n",
        "        result *= i\n",
        "    return result\n",
        "print(factorial(5))"
      ],
      "metadata": {
        "colab": {
          "base_uri": "https://localhost:8080/"
        },
        "id": "-ce83yuEfDok",
        "outputId": "85264968-26db-4244-9a40-55d895b29f7b"
      },
      "execution_count": null,
      "outputs": [
        {
          "output_type": "stream",
          "name": "stdout",
          "text": [
            "120\n"
          ]
        }
      ]
    },
    {
      "cell_type": "code",
      "source": [
        "def add():\n",
        "  a = 10\n",
        "  b = 5\n",
        "  print(a+b)\n",
        "add()"
      ],
      "metadata": {
        "colab": {
          "base_uri": "https://localhost:8080/"
        },
        "id": "pV6nnTcJjPBv",
        "outputId": "1ecee335-608b-4c92-dcdc-7e956f099135"
      },
      "execution_count": null,
      "outputs": [
        {
          "output_type": "stream",
          "name": "stdout",
          "text": [
            "15\n"
          ]
        }
      ]
    },
    {
      "cell_type": "code",
      "source": [
        "def add(a,b):\n",
        "  print(a+b)\n",
        "a = int(input())\n",
        "b = int(input())\n",
        "add(a,b)"
      ],
      "metadata": {
        "colab": {
          "base_uri": "https://localhost:8080/"
        },
        "id": "bF6Nkq6Oj_B2",
        "outputId": "6c4f4a7c-8eb9-451a-ca15-05e27f2d3c39"
      },
      "execution_count": null,
      "outputs": [
        {
          "output_type": "stream",
          "name": "stdout",
          "text": [
            "30\n",
            "60\n",
            "90\n"
          ]
        }
      ]
    },
    {
      "cell_type": "code",
      "source": [
        "def add(a,b):\n",
        "  print(a)\n",
        "  print(b)\n",
        "x = 10\n",
        "y = 20\n",
        "add(a,b)"
      ],
      "metadata": {
        "colab": {
          "base_uri": "https://localhost:8080/"
        },
        "id": "LQhZytpTmOaW",
        "outputId": "354d86f3-3e42-48b2-f4e9-a47eed2a42f6"
      },
      "execution_count": null,
      "outputs": [
        {
          "output_type": "stream",
          "name": "stdout",
          "text": [
            "30\n",
            "60\n"
          ]
        }
      ]
    },
    {
      "cell_type": "code",
      "source": [
        "def add(a,b):\n",
        "  print(a+b)\n",
        "x = int(input())\n",
        "y = int(input())\n",
        "add(x,y)"
      ],
      "metadata": {
        "colab": {
          "base_uri": "https://localhost:8080/"
        },
        "id": "XG8qX33Wkfv8",
        "outputId": "df415118-153d-43ee-b820-cc1a2cd4dd2a"
      },
      "execution_count": null,
      "outputs": [
        {
          "output_type": "stream",
          "name": "stdout",
          "text": [
            "3\n",
            "4\n",
            "7\n"
          ]
        }
      ]
    },
    {
      "cell_type": "code",
      "source": [
        "def add(a,b):\n",
        "  print(a)\n",
        "  print(b)\n",
        "x = 10\n",
        "y = 20\n",
        "add(x,y)"
      ],
      "metadata": {
        "colab": {
          "base_uri": "https://localhost:8080/"
        },
        "id": "ZIzogwuzl2os",
        "outputId": "4fd01073-7c88-42ef-ae33-4d25554a0b3d"
      },
      "execution_count": null,
      "outputs": [
        {
          "output_type": "stream",
          "name": "stdout",
          "text": [
            "10\n",
            "20\n"
          ]
        }
      ]
    },
    {
      "cell_type": "code",
      "source": [
        "def add(a,b):\n",
        "  print(a)\n",
        "  print(b)\n",
        "x = 10\n",
        "y = 20\n",
        "add(y,x)\n",
        "add(x,y)"
      ],
      "metadata": {
        "colab": {
          "base_uri": "https://localhost:8080/"
        },
        "id": "7JzzqumDmGne",
        "outputId": "102c3650-8c04-4db6-c0a8-9a71cd91d739"
      },
      "execution_count": null,
      "outputs": [
        {
          "output_type": "stream",
          "name": "stdout",
          "text": [
            "20\n",
            "10\n",
            "10\n",
            "20\n"
          ]
        }
      ]
    },
    {
      "cell_type": "code",
      "source": [
        "c = 500\n",
        "def add(c,d):\n",
        "  print(c)\n",
        "  print(d)\n",
        "x = 10\n",
        "y = 20\n",
        "add(x,y)\n",
        "print(c)"
      ],
      "metadata": {
        "colab": {
          "base_uri": "https://localhost:8080/"
        },
        "id": "gs-Tjawam6WI",
        "outputId": "1c05d69c-23d6-404d-e440-52aea302bccb"
      },
      "execution_count": null,
      "outputs": [
        {
          "output_type": "stream",
          "name": "stdout",
          "text": [
            "10\n",
            "20\n",
            "500\n"
          ]
        }
      ]
    },
    {
      "cell_type": "code",
      "source": [
        "c = 500\n",
        "def add(c,d):\n",
        "  print(c)\n",
        "  print(d)\n",
        "x = 10\n",
        "y = 20\n",
        "add(y,x)\n",
        "add(x,y)\n",
        "print(c)\n",
        "add(d=y, c=x)"
      ],
      "metadata": {
        "colab": {
          "base_uri": "https://localhost:8080/"
        },
        "id": "XYRA9obmnT91",
        "outputId": "5b7a7077-fdef-4462-9b4f-c3267aec82dd"
      },
      "execution_count": null,
      "outputs": [
        {
          "output_type": "stream",
          "name": "stdout",
          "text": [
            "20\n",
            "10\n",
            "10\n",
            "20\n",
            "500\n",
            "10\n",
            "20\n"
          ]
        }
      ]
    },
    {
      "cell_type": "code",
      "source": [
        "def add(a,b):\n",
        "  return a+b\n",
        "print(add(5,6))"
      ],
      "metadata": {
        "colab": {
          "base_uri": "https://localhost:8080/"
        },
        "id": "C1toM29qpYDT",
        "outputId": "7c14c639-dcae-4bec-9510-fdf8dfdceb0b"
      },
      "execution_count": null,
      "outputs": [
        {
          "output_type": "stream",
          "name": "stdout",
          "text": [
            "11\n"
          ]
        }
      ]
    },
    {
      "cell_type": "code",
      "source": [
        "def add(a,b):\n",
        "  return a+b\n",
        "x = add(12,13)\n",
        "print(x + 30)"
      ],
      "metadata": {
        "colab": {
          "base_uri": "https://localhost:8080/"
        },
        "id": "TlAgBOx4qBlH",
        "outputId": "b119112e-2c2c-4f6e-f0c2-e1ac2a5c381a"
      },
      "execution_count": null,
      "outputs": [
        {
          "output_type": "stream",
          "name": "stdout",
          "text": [
            "55\n"
          ]
        }
      ]
    },
    {
      "cell_type": "code",
      "source": [
        "def add(a,b):\n",
        "  return a+b\n",
        "def sub(a,d):\n",
        "  return a-b\n",
        "def mul(a,b):\n",
        "  return a*b\n",
        "def div(a,b):\n",
        "  return a/b\n",
        "def cal(a,b,opp):\n",
        "    if opp == 1:\n",
        "        return add(a,b)\n",
        "    elif opp == 2:\n",
        "        return sub (a,b)\n",
        "    elif opp == 3:\n",
        "        return mul (a,b)\n",
        "    elif opp == 4:\n",
        "        return div(a,b)\n",
        "x = int(input(\"enter first num:\"))\n",
        "y= int(input(\"enter second num:\"))\n",
        "print(\" enter 1 to add \\n enter 2 to sub \\n enter 3 to mul \\n enter 4 to div\")\n",
        "z = int(input(\"enter your choice:\"))\n",
        "cal(x,y,z)"
      ],
      "metadata": {
        "colab": {
          "base_uri": "https://localhost:8080/"
        },
        "id": "vTRST6tDqZAy",
        "outputId": "679a266e-8d3c-45d8-88ea-37b1c41cabfb"
      },
      "execution_count": null,
      "outputs": [
        {
          "name": "stdout",
          "output_type": "stream",
          "text": [
            "enter first num:3\n",
            "enter second num:5\n",
            " enter 1 to add \n",
            " enter 2 to sub \n",
            " enter 3 to mul \n",
            " enter 4 to div\n",
            "enter your choice:3\n"
          ]
        },
        {
          "output_type": "execute_result",
          "data": {
            "text/plain": [
              "15"
            ]
          },
          "metadata": {},
          "execution_count": 51
        }
      ]
    },
    {
      "cell_type": "markdown",
      "source": [
        "# **# DAY - 3 TASK**"
      ],
      "metadata": {
        "id": "HLHZ9zlW3luB"
      }
    },
    {
      "cell_type": "markdown",
      "source": [
        "**Coffee Machine Program Requirments**"
      ],
      "metadata": {
        "id": "13QaQD4Y31BS"
      }
    },
    {
      "cell_type": "code",
      "source": [
        "menu = {\n",
        "    \"espresso\": {\n",
        "        \"ingredients\": {\"water\": 20, \"coffee\": 9, \"milk\": 100},\n",
        "        \"cost\": 30\n",
        "                },\n",
        "    \"lattee\": {\n",
        "        \"ingredients\": {\"water\": 40, \"coffee\": 12, \"milk\": 200},\n",
        "        \"cost\": 50\n",
        "            },\n",
        "    \"cappuccino\": {\n",
        "        \"ingredients\": {\"water\": 35, \"coffee\": 10, \"milk\": 120},\n",
        "        \"cost\": 40\n",
        "                  }\n",
        "       }\n",
        "resource = {\"water\": 1000,\n",
        "            \"milk\": 850,\n",
        "            \"coffee\": 250,\n",
        "            \"total_amount\": 0\n",
        "            }\n",
        "\n",
        "def print_report():\n",
        "  print(f\"Water: {resource['water']}ml\")\n",
        "  print(f\"Milk: {resource['milk']}ml\")\n",
        "  print(f\"Coffee: {resource['coffee']}g\")\n",
        "  print(f\"Money: ${resource['total_amount']}\")\n",
        "\n",
        "\n",
        "\n",
        "def check_resource(ingredients):\n",
        "    for item in ingredients:\n",
        "        if ingredients[item] > resource[item]:\n",
        "            print(f\"Sorry there is not enough {item}.\")\n",
        "            return False\n",
        "    return True\n",
        "\n",
        "def process_payment(cost):\n",
        "    amount = int(input(\"enter the amount:\"))\n",
        "    if amount < cost:\n",
        "        print(\"sorry, that's not the enough money. Money refunded\")\n",
        "        return False\n",
        "    else:\n",
        "        change = amount - cost\n",
        "        print(f\"Here is your change: {change}\")\n",
        "        resource[\"total_amount\"] += cost\n",
        "        return True\n",
        "\n",
        "def make_coffee(coffee_name, ingredients):\n",
        "    for item in ingredients:\n",
        "        resource[item] -= ingredients[item]\n",
        "    print(f\"Here is your {coffee_name}. Enjoy!\")\n",
        "\n",
        "choice = input(\"What would you like? (espresso/lattee/cappuccino): \")\n",
        "\n",
        "if choice == \"off\":\n",
        "    is_on = False\n",
        "    print(\"Coffee machine turning off. Goodbye!\")\n",
        "\n",
        "elif choice == \"report\":\n",
        "  print_report()\n",
        "\n",
        "elif coffee in menu:\n",
        "    coffee_name = menu[coffee]\n",
        "    if check_resource(coffee_name[\"ingredients\"]):\n",
        "        if process_payment(coffee_name[\"cost\"]):\n",
        "            make_coffee(coffee, coffee_name[\"ingredients\"])\n",
        "else:\n",
        "    print(\"Sorry, that coffee is not available.\")"
      ],
      "metadata": {
        "id": "t_S1hp1zvhao",
        "outputId": "1533b8b1-461b-408d-d172-c5412e62ef41",
        "colab": {
          "base_uri": "https://localhost:8080/"
        }
      },
      "execution_count": 6,
      "outputs": [
        {
          "output_type": "stream",
          "name": "stdout",
          "text": [
            "What would you like? (espresso/lattee/cappuccino): report\n",
            "Water: 1000ml\n",
            "Milk: 850ml\n",
            "Coffee: 250g\n",
            "Money: $0\n"
          ]
        }
      ]
    }
  ]
}